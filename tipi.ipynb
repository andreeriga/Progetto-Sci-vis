{
 "cells": [
  {
   "cell_type": "code",
   "execution_count": 1,
   "metadata": {},
   "outputs": [],
   "source": [
    "import matplotlib.pyplot as plt\n",
    "import numpy as np\n",
    "import pandas as pd\n",
    "import plotly.graph_objects as go\n",
    "import seaborn as sns"
   ]
  },
  {
   "cell_type": "code",
   "execution_count": 20,
   "metadata": {},
   "outputs": [
    {
     "data": {
      "text/html": [
       "<div>\n",
       "<style scoped>\n",
       "    .dataframe tbody tr th:only-of-type {\n",
       "        vertical-align: middle;\n",
       "    }\n",
       "\n",
       "    .dataframe tbody tr th {\n",
       "        vertical-align: top;\n",
       "    }\n",
       "\n",
       "    .dataframe thead th {\n",
       "        text-align: right;\n",
       "    }\n",
       "</style>\n",
       "<table border=\"1\" class=\"dataframe\">\n",
       "  <thead>\n",
       "    <tr style=\"text-align: right;\">\n",
       "      <th></th>\n",
       "      <th>Pokedex Number</th>\n",
       "      <th>Pokemon Name</th>\n",
       "      <th>Classification</th>\n",
       "      <th>Alternate Form Name</th>\n",
       "      <th>Original Pokemon ID</th>\n",
       "      <th>Legendary Type</th>\n",
       "      <th>Pokemon Height</th>\n",
       "      <th>Pokemon Weight</th>\n",
       "      <th>Primary Type</th>\n",
       "      <th>Secondary Type</th>\n",
       "      <th>...</th>\n",
       "      <th>Speed EV</th>\n",
       "      <th>EV Yield Total</th>\n",
       "      <th>Catch Rate</th>\n",
       "      <th>Experience Growth</th>\n",
       "      <th>Experience Growth Total</th>\n",
       "      <th>Primary Egg Group</th>\n",
       "      <th>Secondary Egg Group</th>\n",
       "      <th>Egg Cycle Count</th>\n",
       "      <th>Pre-Evolution Pokemon Id</th>\n",
       "      <th>Evolution Details</th>\n",
       "    </tr>\n",
       "    <tr>\n",
       "      <th>Pokemon Id</th>\n",
       "      <th></th>\n",
       "      <th></th>\n",
       "      <th></th>\n",
       "      <th></th>\n",
       "      <th></th>\n",
       "      <th></th>\n",
       "      <th></th>\n",
       "      <th></th>\n",
       "      <th></th>\n",
       "      <th></th>\n",
       "      <th></th>\n",
       "      <th></th>\n",
       "      <th></th>\n",
       "      <th></th>\n",
       "      <th></th>\n",
       "      <th></th>\n",
       "      <th></th>\n",
       "      <th></th>\n",
       "      <th></th>\n",
       "      <th></th>\n",
       "      <th></th>\n",
       "    </tr>\n",
       "  </thead>\n",
       "  <tbody>\n",
       "    <tr>\n",
       "      <th>1</th>\n",
       "      <td>1</td>\n",
       "      <td>\"Bulbasaur\"</td>\n",
       "      <td>\"Seed Pokémon\"</td>\n",
       "      <td>NaN</td>\n",
       "      <td>NaN</td>\n",
       "      <td>NaN</td>\n",
       "      <td>0.7</td>\n",
       "      <td>6.9</td>\n",
       "      <td>\"Grass\"</td>\n",
       "      <td>\"Poison\"</td>\n",
       "      <td>...</td>\n",
       "      <td>0</td>\n",
       "      <td>1</td>\n",
       "      <td>45</td>\n",
       "      <td>\"Medium Slow\"</td>\n",
       "      <td>1059860</td>\n",
       "      <td>\"Monster\"</td>\n",
       "      <td>\"Grass\"</td>\n",
       "      <td>20</td>\n",
       "      <td>NaN</td>\n",
       "      <td>NaN</td>\n",
       "    </tr>\n",
       "    <tr>\n",
       "      <th>2</th>\n",
       "      <td>2</td>\n",
       "      <td>\"Ivysaur\"</td>\n",
       "      <td>\"Seed Pokémon\"</td>\n",
       "      <td>NaN</td>\n",
       "      <td>NaN</td>\n",
       "      <td>NaN</td>\n",
       "      <td>1.0</td>\n",
       "      <td>13.0</td>\n",
       "      <td>\"Grass\"</td>\n",
       "      <td>\"Poison\"</td>\n",
       "      <td>...</td>\n",
       "      <td>0</td>\n",
       "      <td>2</td>\n",
       "      <td>45</td>\n",
       "      <td>\"Medium Slow\"</td>\n",
       "      <td>1059860</td>\n",
       "      <td>\"Monster\"</td>\n",
       "      <td>\"Grass\"</td>\n",
       "      <td>20</td>\n",
       "      <td>1.0</td>\n",
       "      <td>\"Level 16\"</td>\n",
       "    </tr>\n",
       "    <tr>\n",
       "      <th>3</th>\n",
       "      <td>3</td>\n",
       "      <td>\"Venusaur\"</td>\n",
       "      <td>\"Seed Pokémon\"</td>\n",
       "      <td>NaN</td>\n",
       "      <td>NaN</td>\n",
       "      <td>NaN</td>\n",
       "      <td>2.0</td>\n",
       "      <td>100.0</td>\n",
       "      <td>\"Grass\"</td>\n",
       "      <td>\"Poison\"</td>\n",
       "      <td>...</td>\n",
       "      <td>0</td>\n",
       "      <td>3</td>\n",
       "      <td>45</td>\n",
       "      <td>\"Medium Slow\"</td>\n",
       "      <td>1059860</td>\n",
       "      <td>\"Monster\"</td>\n",
       "      <td>\"Grass\"</td>\n",
       "      <td>20</td>\n",
       "      <td>2.0</td>\n",
       "      <td>\"Level 32\"</td>\n",
       "    </tr>\n",
       "    <tr>\n",
       "      <th>4</th>\n",
       "      <td>3</td>\n",
       "      <td>\"Venusaur\"</td>\n",
       "      <td>\"Seed Pokémon\"</td>\n",
       "      <td>\"Mega\"</td>\n",
       "      <td>3.0</td>\n",
       "      <td>NaN</td>\n",
       "      <td>2.4</td>\n",
       "      <td>155.5</td>\n",
       "      <td>\"Grass\"</td>\n",
       "      <td>\"Poison\"</td>\n",
       "      <td>...</td>\n",
       "      <td>0</td>\n",
       "      <td>3</td>\n",
       "      <td>45</td>\n",
       "      <td>\"Medium Slow\"</td>\n",
       "      <td>1059860</td>\n",
       "      <td>\"Monster\"</td>\n",
       "      <td>\"Grass\"</td>\n",
       "      <td>20</td>\n",
       "      <td>NaN</td>\n",
       "      <td>NaN</td>\n",
       "    </tr>\n",
       "    <tr>\n",
       "      <th>1526</th>\n",
       "      <td>3</td>\n",
       "      <td>\"Venusaur\"</td>\n",
       "      <td>\"Seed Pokémon\"</td>\n",
       "      <td>\"Gigantamax\"</td>\n",
       "      <td>3.0</td>\n",
       "      <td>NaN</td>\n",
       "      <td>24.0</td>\n",
       "      <td>0.0</td>\n",
       "      <td>\"Grass\"</td>\n",
       "      <td>\"Poison\"</td>\n",
       "      <td>...</td>\n",
       "      <td>0</td>\n",
       "      <td>3</td>\n",
       "      <td>45</td>\n",
       "      <td>\"Medium Slow\"</td>\n",
       "      <td>1059860</td>\n",
       "      <td>\"Monster\"</td>\n",
       "      <td>\"Grass\"</td>\n",
       "      <td>20</td>\n",
       "      <td>NaN</td>\n",
       "      <td>NaN</td>\n",
       "    </tr>\n",
       "    <tr>\n",
       "      <th>...</th>\n",
       "      <td>...</td>\n",
       "      <td>...</td>\n",
       "      <td>...</td>\n",
       "      <td>...</td>\n",
       "      <td>...</td>\n",
       "      <td>...</td>\n",
       "      <td>...</td>\n",
       "      <td>...</td>\n",
       "      <td>...</td>\n",
       "      <td>...</td>\n",
       "      <td>...</td>\n",
       "      <td>...</td>\n",
       "      <td>...</td>\n",
       "      <td>...</td>\n",
       "      <td>...</td>\n",
       "      <td>...</td>\n",
       "      <td>...</td>\n",
       "      <td>...</td>\n",
       "      <td>...</td>\n",
       "      <td>...</td>\n",
       "      <td>...</td>\n",
       "    </tr>\n",
       "    <tr>\n",
       "      <th>1873</th>\n",
       "      <td>1023</td>\n",
       "      <td>\"Iron Crown\"</td>\n",
       "      <td>\"Paradox Pokémon\"</td>\n",
       "      <td>NaN</td>\n",
       "      <td>NaN</td>\n",
       "      <td>NaN</td>\n",
       "      <td>1.6</td>\n",
       "      <td>156.0</td>\n",
       "      <td>\"Steel\"</td>\n",
       "      <td>\"Psychic\"</td>\n",
       "      <td>...</td>\n",
       "      <td>0</td>\n",
       "      <td>3</td>\n",
       "      <td>10</td>\n",
       "      <td>\"Slow\"</td>\n",
       "      <td>1250000</td>\n",
       "      <td>\"No Eggs Discovered\"</td>\n",
       "      <td>NaN</td>\n",
       "      <td>50</td>\n",
       "      <td>NaN</td>\n",
       "      <td>NaN</td>\n",
       "    </tr>\n",
       "    <tr>\n",
       "      <th>1882</th>\n",
       "      <td>1024</td>\n",
       "      <td>\"Terapagos\"</td>\n",
       "      <td>\"Tera Pokémon\"</td>\n",
       "      <td>\"Stellar\"</td>\n",
       "      <td>1769.0</td>\n",
       "      <td>\"Legendary\"</td>\n",
       "      <td>1.7</td>\n",
       "      <td>77.0</td>\n",
       "      <td>\"Normal\"</td>\n",
       "      <td>NaN</td>\n",
       "      <td>...</td>\n",
       "      <td>0</td>\n",
       "      <td>3</td>\n",
       "      <td>255</td>\n",
       "      <td>\"Slow\"</td>\n",
       "      <td>1250000</td>\n",
       "      <td>\"No Eggs Discovered\"</td>\n",
       "      <td>NaN</td>\n",
       "      <td>0</td>\n",
       "      <td>NaN</td>\n",
       "      <td>NaN</td>\n",
       "    </tr>\n",
       "    <tr>\n",
       "      <th>1769</th>\n",
       "      <td>1024</td>\n",
       "      <td>\"Terapagos\"</td>\n",
       "      <td>\"Tera Pokémon\"</td>\n",
       "      <td>NaN</td>\n",
       "      <td>NaN</td>\n",
       "      <td>\"Legendary\"</td>\n",
       "      <td>0.2</td>\n",
       "      <td>6.5</td>\n",
       "      <td>\"Normal\"</td>\n",
       "      <td>NaN</td>\n",
       "      <td>...</td>\n",
       "      <td>0</td>\n",
       "      <td>1</td>\n",
       "      <td>255</td>\n",
       "      <td>\"Slow\"</td>\n",
       "      <td>1250000</td>\n",
       "      <td>\"No Eggs Discovered\"</td>\n",
       "      <td>NaN</td>\n",
       "      <td>0</td>\n",
       "      <td>NaN</td>\n",
       "      <td>NaN</td>\n",
       "    </tr>\n",
       "    <tr>\n",
       "      <th>1770</th>\n",
       "      <td>1024</td>\n",
       "      <td>\"Terapagos\"</td>\n",
       "      <td>\"Tera Pokémon\"</td>\n",
       "      <td>\"Terastal\"</td>\n",
       "      <td>1769.0</td>\n",
       "      <td>\"Legendary\"</td>\n",
       "      <td>0.3</td>\n",
       "      <td>16.0</td>\n",
       "      <td>\"Normal\"</td>\n",
       "      <td>NaN</td>\n",
       "      <td>...</td>\n",
       "      <td>0</td>\n",
       "      <td>4</td>\n",
       "      <td>255</td>\n",
       "      <td>\"Slow\"</td>\n",
       "      <td>1250000</td>\n",
       "      <td>\"No Eggs Discovered\"</td>\n",
       "      <td>NaN</td>\n",
       "      <td>0</td>\n",
       "      <td>NaN</td>\n",
       "      <td>NaN</td>\n",
       "    </tr>\n",
       "    <tr>\n",
       "      <th>1884</th>\n",
       "      <td>1025</td>\n",
       "      <td>\"Pecharunt\"</td>\n",
       "      <td>\"Subjugation Pokémon\"</td>\n",
       "      <td>NaN</td>\n",
       "      <td>NaN</td>\n",
       "      <td>\"Mythical\"</td>\n",
       "      <td>0.3</td>\n",
       "      <td>0.3</td>\n",
       "      <td>\"Poison\"</td>\n",
       "      <td>\"Ghost\"</td>\n",
       "      <td>...</td>\n",
       "      <td>0</td>\n",
       "      <td>3</td>\n",
       "      <td>3</td>\n",
       "      <td>\"Slow\"</td>\n",
       "      <td>1250000</td>\n",
       "      <td>\"No Eggs Discovered\"</td>\n",
       "      <td>NaN</td>\n",
       "      <td>0</td>\n",
       "      <td>NaN</td>\n",
       "      <td>NaN</td>\n",
       "    </tr>\n",
       "  </tbody>\n",
       "</table>\n",
       "<p>1382 rows × 44 columns</p>\n",
       "</div>"
      ],
      "text/plain": [
       "            Pokedex Number  Pokemon Name         Classification  \\\n",
       "Pokemon Id                                                        \n",
       "1                        1   \"Bulbasaur\"         \"Seed Pokémon\"   \n",
       "2                        2     \"Ivysaur\"         \"Seed Pokémon\"   \n",
       "3                        3    \"Venusaur\"         \"Seed Pokémon\"   \n",
       "4                        3    \"Venusaur\"         \"Seed Pokémon\"   \n",
       "1526                     3    \"Venusaur\"         \"Seed Pokémon\"   \n",
       "...                    ...           ...                    ...   \n",
       "1873                  1023  \"Iron Crown\"      \"Paradox Pokémon\"   \n",
       "1882                  1024   \"Terapagos\"         \"Tera Pokémon\"   \n",
       "1769                  1024   \"Terapagos\"         \"Tera Pokémon\"   \n",
       "1770                  1024   \"Terapagos\"         \"Tera Pokémon\"   \n",
       "1884                  1025   \"Pecharunt\"  \"Subjugation Pokémon\"   \n",
       "\n",
       "           Alternate Form Name  Original Pokemon ID Legendary Type  \\\n",
       "Pokemon Id                                                           \n",
       "1                          NaN                  NaN            NaN   \n",
       "2                          NaN                  NaN            NaN   \n",
       "3                          NaN                  NaN            NaN   \n",
       "4                       \"Mega\"                  3.0            NaN   \n",
       "1526              \"Gigantamax\"                  3.0            NaN   \n",
       "...                        ...                  ...            ...   \n",
       "1873                       NaN                  NaN            NaN   \n",
       "1882                 \"Stellar\"               1769.0    \"Legendary\"   \n",
       "1769                       NaN                  NaN    \"Legendary\"   \n",
       "1770                \"Terastal\"               1769.0    \"Legendary\"   \n",
       "1884                       NaN                  NaN     \"Mythical\"   \n",
       "\n",
       "            Pokemon Height  Pokemon Weight Primary Type Secondary Type  ...  \\\n",
       "Pokemon Id                                                              ...   \n",
       "1                      0.7             6.9      \"Grass\"       \"Poison\"  ...   \n",
       "2                      1.0            13.0      \"Grass\"       \"Poison\"  ...   \n",
       "3                      2.0           100.0      \"Grass\"       \"Poison\"  ...   \n",
       "4                      2.4           155.5      \"Grass\"       \"Poison\"  ...   \n",
       "1526                  24.0             0.0      \"Grass\"       \"Poison\"  ...   \n",
       "...                    ...             ...          ...            ...  ...   \n",
       "1873                   1.6           156.0      \"Steel\"      \"Psychic\"  ...   \n",
       "1882                   1.7            77.0     \"Normal\"            NaN  ...   \n",
       "1769                   0.2             6.5     \"Normal\"            NaN  ...   \n",
       "1770                   0.3            16.0     \"Normal\"            NaN  ...   \n",
       "1884                   0.3             0.3     \"Poison\"        \"Ghost\"  ...   \n",
       "\n",
       "           Speed EV EV Yield Total Catch Rate Experience Growth  \\\n",
       "Pokemon Id                                                        \n",
       "1                 0              1         45     \"Medium Slow\"   \n",
       "2                 0              2         45     \"Medium Slow\"   \n",
       "3                 0              3         45     \"Medium Slow\"   \n",
       "4                 0              3         45     \"Medium Slow\"   \n",
       "1526              0              3         45     \"Medium Slow\"   \n",
       "...             ...            ...        ...               ...   \n",
       "1873              0              3         10            \"Slow\"   \n",
       "1882              0              3        255            \"Slow\"   \n",
       "1769              0              1        255            \"Slow\"   \n",
       "1770              0              4        255            \"Slow\"   \n",
       "1884              0              3          3            \"Slow\"   \n",
       "\n",
       "           Experience Growth Total     Primary Egg Group Secondary Egg Group  \\\n",
       "Pokemon Id                                                                     \n",
       "1                          1059860             \"Monster\"             \"Grass\"   \n",
       "2                          1059860             \"Monster\"             \"Grass\"   \n",
       "3                          1059860             \"Monster\"             \"Grass\"   \n",
       "4                          1059860             \"Monster\"             \"Grass\"   \n",
       "1526                       1059860             \"Monster\"             \"Grass\"   \n",
       "...                            ...                   ...                 ...   \n",
       "1873                       1250000  \"No Eggs Discovered\"                 NaN   \n",
       "1882                       1250000  \"No Eggs Discovered\"                 NaN   \n",
       "1769                       1250000  \"No Eggs Discovered\"                 NaN   \n",
       "1770                       1250000  \"No Eggs Discovered\"                 NaN   \n",
       "1884                       1250000  \"No Eggs Discovered\"                 NaN   \n",
       "\n",
       "           Egg Cycle Count  Pre-Evolution Pokemon Id  Evolution Details  \n",
       "Pokemon Id                                                               \n",
       "1                       20                       NaN                NaN  \n",
       "2                       20                       1.0         \"Level 16\"  \n",
       "3                       20                       2.0         \"Level 32\"  \n",
       "4                       20                       NaN                NaN  \n",
       "1526                    20                       NaN                NaN  \n",
       "...                    ...                       ...                ...  \n",
       "1873                    50                       NaN                NaN  \n",
       "1882                     0                       NaN                NaN  \n",
       "1769                     0                       NaN                NaN  \n",
       "1770                     0                       NaN                NaN  \n",
       "1884                     0                       NaN                NaN  \n",
       "\n",
       "[1382 rows x 44 columns]"
      ]
     },
     "execution_count": 20,
     "metadata": {},
     "output_type": "execute_result"
    }
   ],
   "source": [
    "df = pd.read_csv('POKEMON/Pokemon-Database.csv',index_col=0)\n",
    "df"
   ]
  },
  {
   "cell_type": "code",
   "execution_count": 21,
   "metadata": {},
   "outputs": [
    {
     "data": {
      "text/plain": [
       "Index(['Pokedex Number', 'Pokemon Name', 'Classification',\n",
       "       'Alternate Form Name', 'Original Pokemon ID', 'Legendary Type',\n",
       "       'Pokemon Height', 'Pokemon Weight', 'Primary Type', 'Secondary Type',\n",
       "       'Primary Ability', 'Primary Ability Description', 'Secondary Ability',\n",
       "       'Secondary Ability Description', 'Hidden Ability',\n",
       "       'Hidden Ability Description', 'Special Event Ability',\n",
       "       'Special Event Ability Description', 'Male Ratio', 'Female Ratio',\n",
       "       'Base Happiness', 'Game(s) of Origin', 'Health Stat', 'Attack Stat',\n",
       "       'Defense Stat', 'Special Attack Stat', 'Special Defense Stat',\n",
       "       'Speed Stat', 'Base Stat Total', 'Health EV', 'Attack EV', 'Defense EV',\n",
       "       'Special Attack EV', 'Special Defense EV', 'Speed EV', 'EV Yield Total',\n",
       "       'Catch Rate', 'Experience Growth', 'Experience Growth Total',\n",
       "       'Primary Egg Group', 'Secondary Egg Group', 'Egg Cycle Count',\n",
       "       'Pre-Evolution Pokemon Id', 'Evolution Details'],\n",
       "      dtype='object')"
      ]
     },
     "execution_count": 21,
     "metadata": {},
     "output_type": "execute_result"
    }
   ],
   "source": [
    "df.columns"
   ]
  },
  {
   "cell_type": "code",
   "execution_count": 22,
   "metadata": {},
   "outputs": [
    {
     "data": {
      "text/plain": [
       "Pokemon Id\n",
       "1           \"Red\"\n",
       "2           \"Red\"\n",
       "3           \"Red\"\n",
       "4             \"X\"\n",
       "1526      \"Sword\"\n",
       "          ...    \n",
       "1873    \"Scarlet\"\n",
       "1882     \"Violet\"\n",
       "1769     \"Violet\"\n",
       "1770    \"Scarlet\"\n",
       "1884    \"Scarlet\"\n",
       "Name: Game(s) of Origin, Length: 1382, dtype: object"
      ]
     },
     "execution_count": 22,
     "metadata": {},
     "output_type": "execute_result"
    }
   ],
   "source": [
    "df['Game(s) of Origin']"
   ]
  },
  {
   "cell_type": "code",
   "execution_count": 23,
   "metadata": {},
   "outputs": [
    {
     "data": {
      "text/plain": [
       "Pokemon Id\n",
       "1        Grass\n",
       "2        Grass\n",
       "3        Grass\n",
       "4        Grass\n",
       "1526     Grass\n",
       "         ...  \n",
       "1873     Steel\n",
       "1882    Normal\n",
       "1769    Normal\n",
       "1770    Normal\n",
       "1884    Poison\n",
       "Length: 1382, dtype: object"
      ]
     },
     "execution_count": 23,
     "metadata": {},
     "output_type": "execute_result"
    }
   ],
   "source": [
    "t = [x[1:len(x)-1] for x in df['Primary Type'].values]\n",
    "tipi = pd.Series(t,df['Primary Type'].index)\n",
    "tipi"
   ]
  },
  {
   "cell_type": "code",
   "execution_count": 24,
   "metadata": {},
   "outputs": [
    {
     "data": {
      "text/plain": [
       "Pokemon Id\n",
       "1        Poison\n",
       "2        Poison\n",
       "3        Poison\n",
       "4        Poison\n",
       "1526     Poison\n",
       "         ...   \n",
       "1885     Dragon\n",
       "1872     Dragon\n",
       "1886    Psychic\n",
       "1873    Psychic\n",
       "1884      Ghost\n",
       "Length: 752, dtype: object"
      ]
     },
     "execution_count": 24,
     "metadata": {},
     "output_type": "execute_result"
    }
   ],
   "source": [
    "sec = df['Secondary Type'].dropna()\n",
    "t2 = [x[1:len(x)-1] for x in sec.values]\n",
    "tipi2 = pd.Series(t2,sec.index)\n",
    "tipi2"
   ]
  },
  {
   "cell_type": "code",
   "execution_count": 25,
   "metadata": {},
   "outputs": [
    {
     "name": "stdout",
     "output_type": "stream",
     "text": [
      "CALCOLIAMO LE FREQUENZE DEI VARI TIPI DI POKEMON\n"
     ]
    }
   ],
   "source": [
    "print('CALCOLIAMO LE FREQUENZE DEI VARI TIPI DI POKEMON')"
   ]
  },
  {
   "cell_type": "code",
   "execution_count": 27,
   "metadata": {},
   "outputs": [
    {
     "data": {
      "image/png": "[encoded data removed]",
      "text/plain": [
       "<Figure size 640x480 with 1 Axes>"
      ]
     },
     "metadata": {},
     "output_type": "display_data"
    }
   ],
   "source": [
    "ax = tipi.value_counts().sort_index().plot.barh(\n",
    "    color= '#446cc2',\n",
    "           alpha = .6\n",
    ")\n",
    "plt.title('Frequenze dei Tipi primari dei Pokemon')\n",
    "ax.invert_xaxis()\n",
    "ax.yaxis.tick_right()\n",
    "plt.gcf().set_facecolor('#e3e7f0')\n",
    "plt.xticks(np.arange(0,181,20))\n",
    "plt.show()"
   ]
  },
  {
   "cell_type": "code",
   "execution_count": 28,
   "metadata": {},
   "outputs": [
    {
     "name": "stdout",
     "output_type": "stream",
     "text": [
      "aqua darkgrey green lime pink red chocolate yellow purple khaki black saddlebrown violet purple grey lightblue magenta blue\n"
     ]
    }
   ],
   "source": [
    "print('aqua','darkgrey','green','lime','pink','red','chocolate','yellow','purple','khaki','black',\n",
    "           'saddlebrown','violet','purple','grey','lightblue','magenta','blue')"
   ]
  },
  {
   "cell_type": "code",
   "execution_count": 29,
   "metadata": {},
   "outputs": [
    {
     "data": {
      "text/plain": [
       "Index(['Water', 'Normal', 'Grass', 'Psychic', 'Bug', 'Electric', 'Fire',\n",
       "       'Rock', 'Dark', 'Fighting', 'Fairy', 'Ghost', 'Ground', 'Steel',\n",
       "       'Poison', 'Dragon', 'Ice', 'Flying'],\n",
       "      dtype='object')"
      ]
     },
     "execution_count": 29,
     "metadata": {},
     "output_type": "execute_result"
    }
   ],
   "source": [
    "tipi.value_counts().index"
   ]
  },
  {
   "cell_type": "code",
   "execution_count": 30,
   "metadata": {},
   "outputs": [
    {
     "data": {
      "text/plain": [
       "Index(['Bug', 'Dark', 'Dragon', 'Electric', 'Fairy', 'Fighting', 'Fire',\n",
       "       'Flying', 'Ghost', 'Grass', 'Ground', 'Ice', 'Normal', 'Poison',\n",
       "       'Psychic', 'Rock', 'Steel', 'Water'],\n",
       "      dtype='object')"
      ]
     },
     "execution_count": 30,
     "metadata": {},
     "output_type": "execute_result"
    }
   ],
   "source": [
    "tipi.value_counts().sort_index().index"
   ]
  },
  {
   "cell_type": "code",
   "execution_count": null,
   "metadata": {},
   "outputs": [
    {
     "data": {
      "application/vnd.plotly.v1+json": {
       "config": {
        "plotlyServerURL": "https://plot.ly"
       },
       "data": [
        {
         "hole": 0.3,
         "labels": [
          "Water",
          "Normal",
          "Grass",
          "Psychic",
          "Bug",
          "Electric",
          "Fire",
          "Rock",
          "Dark",
          "Fighting",
          "Fairy",
          "Ghost",
          "Ground",
          "Steel",
          "Poison",
          "Dragon",
          "Ice",
          "Flying"
         ],
         "marker": {
          "colors": [
           "#6390F0",
           "#A8A77A",
           "#7AC74C",
           "#F95587",
           "#A6B91A",
           "#F7D02C",
           "#EE8130",
           "#B6A136",
           "#705746",
           "#C22E28",
           "#D685AD",
           "#735797",
           "#E2BF65",
           "#B7B7CE",
           "#A33EA1",
           "#6F35FC",
           "#96D9D6",
           "#A98FF3"
          ]
         },
         "opacity": 0.7,
         "pull": [
          0.1,
          0.1,
          0.1,
          0,
          0,
          0,
          0,
          0,
          0,
          0,
          0,
          0,
          0,
          0,
          0,
          0,
          0
         ],
         "textposition": "inside",
         "type": "pie",
         "values": [
          159,
          153,
          125,
          116,
          115,
          80,
          79,
          76,
          59,
          57,
          53,
          53,
          51,
          51,
          50,
          49,
          45,
          11
         ]
        }
       ],
       "layout": {
        "paper_bgcolor": "#e3e7f0",
        "template": {
         "data": {
          "bar": [
           {
            "error_x": {
             "color": "#2a3f5f"
            },
            "error_y": {
             "color": "#2a3f5f"
            },
            "marker": {
             "line": {
              "color": "#E5ECF6",
              "width": 0.5
             },
             "pattern": {
              "fillmode": "overlay",
              "size": 10,
              "solidity": 0.2
             }
            },
            "type": "bar"
           }
          ],
          "barpolar": [
           {
            "marker": {
             "line": {
              "color": "#E5ECF6",
              "width": 0.5
             },
             "pattern": {
              "fillmode": "overlay",
              "size": 10,
              "solidity": 0.2
             }
            },
            "type": "barpolar"
           }
          ],
          "carpet": [
           {
            "aaxis": {
             "endlinecolor": "#2a3f5f",
             "gridcolor": "white",
             "linecolor": "white",
             "minorgridcolor": "white",
             "startlinecolor": "#2a3f5f"
            },
            "baxis": {
             "endlinecolor": "#2a3f5f",
             "gridcolor": "white",
             "linecolor": "white",
             "minorgridcolor": "white",
             "startlinecolor": "#2a3f5f"
            },
            "type": "carpet"
           }
          ],
          "choropleth": [
           {
            "colorbar": {
             "outlinewidth": 0,
             "ticks": ""
            },
            "type": "choropleth"
           }
          ],
          "contour": [
           {
            "colorbar": {
             "outlinewidth": 0,
             "ticks": ""
            },
            "colorscale": [
             [
              0,
              "#0d0887"
             ],
             [
              0.1111111111111111,
              "#46039f"
             ],
             [
              0.2222222222222222,
              "#7201a8"
             ],
             [
              0.3333333333333333,
              "#9c179e"
             ],
             [
              0.4444444444444444,
              "#bd3786"
             ],
             [
              0.5555555555555556,
              "#d8576b"
             ],
             [
              0.6666666666666666,
              "#ed7953"
             ],
             [
              0.7777777777777778,
              "#fb9f3a"
             ],
             [
              0.8888888888888888,
              "#fdca26"
             ],
             [
              1,
              "#f0f921"
             ]
            ],
            "type": "contour"
           }
          ],
          "contourcarpet": [
           {
            "colorbar": {
             "outlinewidth": 0,
             "ticks": ""
            },
            "type": "contourcarpet"
           }
          ],
          "heatmap": [
           {
            "colorbar": {
             "outlinewidth": 0,
             "ticks": ""
            },
            "colorscale": [
             [
              0,
              "#0d0887"
             ],
             [
              0.1111111111111111,
              "#46039f"
             ],
             [
              0.2222222222222222,
              "#7201a8"
             ],
             [
              0.3333333333333333,
              "#9c179e"
             ],
             [
              0.4444444444444444,
              "#bd3786"
             ],
             [
              0.5555555555555556,
              "#d8576b"
             ],
             [
              0.6666666666666666,
              "#ed7953"
             ],
             [
              0.7777777777777778,
              "#fb9f3a"
             ],
             [
              0.8888888888888888,
              "#fdca26"
             ],
             [
              1,
              "#f0f921"
             ]
            ],
            "type": "heatmap"
           }
          ],
          "heatmapgl": [
           {
            "colorbar": {
             "outlinewidth": 0,
             "ticks": ""
            },
            "colorscale": [
             [
              0,
              "#0d0887"
             ],
             [
              0.1111111111111111,
              "#46039f"
             ],
             [
              0.2222222222222222,
              "#7201a8"
             ],
             [
              0.3333333333333333,
              "#9c179e"
             ],
             [
              0.4444444444444444,
              "#bd3786"
             ],
             [
              0.5555555555555556,
              "#d8576b"
             ],
             [
              0.6666666666666666,
              "#ed7953"
             ],
             [
              0.7777777777777778,
              "#fb9f3a"
             ],
             [
              0.8888888888888888,
              "#fdca26"
             ],
             [
              1,
              "#f0f921"
             ]
            ],
            "type": "heatmapgl"
           }
          ],
          "histogram": [
           {
            "marker": {
             "pattern": {
              "fillmode": "overlay",
              "size": 10,
              "solidity": 0.2
             }
            },
            "type": "histogram"
           }
          ],
          "histogram2d": [
           {
            "colorbar": {
             "outlinewidth": 0,
             "ticks": ""
            },
            "colorscale": [
             [
              0,
              "#0d0887"
             ],
             [
              0.1111111111111111,
              "#46039f"
             ],
             [
              0.2222222222222222,
              "#7201a8"
             ],
             [
              0.3333333333333333,
              "#9c179e"
             ],
             [
              0.4444444444444444,
              "#bd3786"
             ],
             [
              0.5555555555555556,
              "#d8576b"
             ],
             [
              0.6666666666666666,
              "#ed7953"
             ],
             [
              0.7777777777777778,
              "#fb9f3a"
             ],
             [
              0.8888888888888888,
              "#fdca26"
             ],
             [
              1,
              "#f0f921"
             ]
            ],
            "type": "histogram2d"
           }
          ],
          "histogram2dcontour": [
           {
            "colorbar": {
             "outlinewidth": 0,
             "ticks": ""
            },
            "colorscale": [
             [
              0,
              "#0d0887"
             ],
             [
              0.1111111111111111,
              "#46039f"
             ],
             [
              0.2222222222222222,
              "#7201a8"
             ],
             [
              0.3333333333333333,
              "#9c179e"
             ],
             [
              0.4444444444444444,
              "#bd3786"
             ],
             [
              0.5555555555555556,
              "#d8576b"
             ],
             [
              0.6666666666666666,
              "#ed7953"
             ],
             [
              0.7777777777777778,
              "#fb9f3a"
             ],
             [
              0.8888888888888888,
              "#fdca26"
             ],
             [
              1,
              "#f0f921"
             ]
            ],
            "type": "histogram2dcontour"
           }
          ],
          "mesh3d": [
           {
            "colorbar": {
             "outlinewidth": 0,
             "ticks": ""
            },
            "type": "mesh3d"
           }
          ],
          "parcoords": [
           {
            "line": {
             "colorbar": {
              "outlinewidth": 0,
              "ticks": ""
             }
            },
            "type": "parcoords"
           }
          ],
          "pie": [
           {
            "automargin": true,
            "type": "pie"
           }
          ],
          "scatter": [
           {
            "fillpattern": {
             "fillmode": "overlay",
             "size": 10,
             "solidity": 0.2
            },
            "type": "scatter"
           }
          ],
          "scatter3d": [
           {
            "line": {
             "colorbar": {
              "outlinewidth": 0,
              "ticks": ""
             }
            },
            "marker": {
             "colorbar": {
              "outlinewidth": 0,
              "ticks": ""
             }
            },
            "type": "scatter3d"
           }
          ],
          "scattercarpet": [
           {
            "marker": {
             "colorbar": {
              "outlinewidth": 0,
              "ticks": ""
             }
            },
            "type": "scattercarpet"
           }
          ],
          "scattergeo": [
           {
            "marker": {
             "colorbar": {
              "outlinewidth": 0,
              "ticks": ""
             }
            },
            "type": "scattergeo"
           }
          ],
          "scattergl": [
           {
            "marker": {
             "colorbar": {
              "outlinewidth": 0,
              "ticks": ""
             }
            },
            "type": "scattergl"
           }
          ],
          "scattermapbox": [
           {
            "marker": {
             "colorbar": {
              "outlinewidth": 0,
              "ticks": ""
             }
            },
            "type": "scattermapbox"
           }
          ],
          "scatterpolar": [
           {
            "marker": {
             "colorbar": {
              "outlinewidth": 0,
              "ticks": ""
             }
            },
            "type": "scatterpolar"
           }
          ],
          "scatterpolargl": [
           {
            "marker": {
             "colorbar": {
              "outlinewidth": 0,
              "ticks": ""
             }
            },
            "type": "scatterpolargl"
           }
          ],
          "scatterternary": [
           {
            "marker": {
             "colorbar": {
              "outlinewidth": 0,
              "ticks": ""
             }
            },
            "type": "scatterternary"
           }
          ],
          "surface": [
           {
            "colorbar": {
             "outlinewidth": 0,
             "ticks": ""
            },
            "colorscale": [
             [
              0,
              "#0d0887"
             ],
             [
              0.1111111111111111,
              "#46039f"
             ],
             [
              0.2222222222222222,
              "#7201a8"
             ],
             [
              0.3333333333333333,
              "#9c179e"
             ],
             [
              0.4444444444444444,
              "#bd3786"
             ],
             [
              0.5555555555555556,
              "#d8576b"
             ],
             [
              0.6666666666666666,
              "#ed7953"
             ],
             [
              0.7777777777777778,
              "#fb9f3a"
             ],
             [
              0.8888888888888888,
              "#fdca26"
             ],
             [
              1,
              "#f0f921"
             ]
            ],
            "type": "surface"
           }
          ],
          "table": [
           {
            "cells": {
             "fill": {
              "color": "#EBF0F8"
             },
             "line": {
              "color": "white"
             }
            },
            "header": {
             "fill": {
              "color": "#C8D4E3"
             },
             "line": {
              "color": "white"
             }
            },
            "type": "table"
           }
          ]
         },
         "layout": {
          "annotationdefaults": {
           "arrowcolor": "#2a3f5f",
           "arrowhead": 0,
           "arrowwidth": 1
          },
          "autotypenumbers": "strict",
          "coloraxis": {
           "colorbar": {
            "outlinewidth": 0,
            "ticks": ""
           }
          },
          "colorscale": {
           "diverging": [
            [
             0,
             "#8e0152"
            ],
            [
             0.1,
             "#c51b7d"
            ],
            [
             0.2,
             "#de77ae"
            ],
            [
             0.3,
             "#f1b6da"
            ],
            [
             0.4,
             "#fde0ef"
            ],
            [
             0.5,
             "#f7f7f7"
            ],
            [
             0.6,
             "#e6f5d0"
            ],
            [
             0.7,
             "#b8e186"
            ],
            [
             0.8,
             "#7fbc41"
            ],
            [
             0.9,
             "#4d9221"
            ],
            [
             1,
             "#276419"
            ]
           ],
           "sequential": [
            [
             0,
             "#0d0887"
            ],
            [
             0.1111111111111111,
             "#46039f"
            ],
            [
             0.2222222222222222,
             "#7201a8"
            ],
            [
             0.3333333333333333,
             "#9c179e"
            ],
            [
             0.4444444444444444,
             "#bd3786"
            ],
            [
             0.5555555555555556,
             "#d8576b"
            ],
            [
             0.6666666666666666,
             "#ed7953"
            ],
            [
             0.7777777777777778,
             "#fb9f3a"
            ],
            [
             0.8888888888888888,
             "#fdca26"
            ],
            [
             1,
             "#f0f921"
            ]
           ],
           "sequentialminus": [
            [
             0,
             "#0d0887"
            ],
            [
             0.1111111111111111,
             "#46039f"
            ],
            [
             0.2222222222222222,
             "#7201a8"
            ],
            [
             0.3333333333333333,
             "#9c179e"
            ],
            [
             0.4444444444444444,
             "#bd3786"
            ],
            [
             0.5555555555555556,
             "#d8576b"
            ],
            [
             0.6666666666666666,
             "#ed7953"
            ],
            [
             0.7777777777777778,
             "#fb9f3a"
            ],
            [
             0.8888888888888888,
             "#fdca26"
            ],
            [
             1,
             "#f0f921"
            ]
           ]
          },
          "colorway": [
           "#636efa",
           "#EF553B",
           "#00cc96",
           "#ab63fa",
           "#FFA15A",
           "#19d3f3",
           "#FF6692",
           "#B6E880",
           "#FF97FF",
           "#FECB52"
          ],
          "font": {
           "color": "#2a3f5f"
          },
          "geo": {
           "bgcolor": "white",
           "lakecolor": "white",
           "landcolor": "#E5ECF6",
           "showlakes": true,
           "showland": true,
           "subunitcolor": "white"
          },
          "hoverlabel": {
           "align": "left"
          },
          "hovermode": "closest",
          "mapbox": {
           "style": "light"
          },
          "paper_bgcolor": "white",
          "plot_bgcolor": "#E5ECF6",
          "polar": {
           "angularaxis": {
            "gridcolor": "white",
            "linecolor": "white",
            "ticks": ""
           },
           "bgcolor": "#E5ECF6",
           "radialaxis": {
            "gridcolor": "white",
            "linecolor": "white",
            "ticks": ""
           }
          },
          "scene": {
           "xaxis": {
            "backgroundcolor": "#E5ECF6",
            "gridcolor": "white",
            "gridwidth": 2,
            "linecolor": "white",
            "showbackground": true,
            "ticks": "",
            "zerolinecolor": "white"
           },
           "yaxis": {
            "backgroundcolor": "#E5ECF6",
            "gridcolor": "white",
            "gridwidth": 2,
            "linecolor": "white",
            "showbackground": true,
            "ticks": "",
            "zerolinecolor": "white"
           },
           "zaxis": {
            "backgroundcolor": "#E5ECF6",
            "gridcolor": "white",
            "gridwidth": 2,
            "linecolor": "white",
            "showbackground": true,
            "ticks": "",
            "zerolinecolor": "white"
           }
          },
          "shapedefaults": {
           "line": {
            "color": "#2a3f5f"
           }
          },
          "ternary": {
           "aaxis": {
            "gridcolor": "white",
            "linecolor": "white",
            "ticks": ""
           },
           "baxis": {
            "gridcolor": "white",
            "linecolor": "white",
            "ticks": ""
           },
           "bgcolor": "#E5ECF6",
           "caxis": {
            "gridcolor": "white",
            "linecolor": "white",
            "ticks": ""
           }
          },
          "title": {
           "x": 0.05
          },
          "xaxis": {
           "automargin": true,
           "gridcolor": "white",
           "linecolor": "white",
           "ticks": "",
           "title": {
            "standoff": 15
           },
           "zerolinecolor": "white",
           "zerolinewidth": 2
          },
          "yaxis": {
           "automargin": true,
           "gridcolor": "white",
           "linecolor": "white",
           "ticks": "",
           "title": {
            "standoff": 15
           },
           "zerolinecolor": "white",
           "zerolinewidth": 2
          }
         }
        },
        "uniformtext": {
         "minsize": 12,
         "mode": "hide"
        }
       }
      }
     },
     "metadata": {},
     "output_type": "display_data"
    }
   ],
   "source": [
    "labels = tipi.value_counts().index\n",
    "values = tipi.value_counts().values\n",
    "pulls = [0.1,0.1,0.1,0,0,0,0,0,0,0,0,0,0,0,0,0,0]\n",
    "fig = go.Figure(data=[go.Pie(labels=labels, values=values, hole=.3,opacity=.7, pull=pulls,marker=dict(colors = [\n",
    "    '#6390F0','#A8A77A','#7AC74C','#F95587','#A6B91A','#F7D02C','#EE8130','#B6A136','#705746','#C22E28','#D685AD','#735797','#E2BF65','#B7B7CE',\n",
    "    '#A33EA1','#6F35FC','#96D9D6','#A98FF3'\n",
    "]))])\n",
    "fig.update_traces(textposition='inside')\n",
    "fig.update_layout(\n",
    "    paper_bgcolor = \"#e3e7f0\",\n",
    "    uniformtext_minsize=12, \n",
    "    uniformtext_mode='hide'\n",
    ")\n",
    "fig.show()"
   ]
  },
  {
   "cell_type": "code",
   "execution_count": 32,
   "metadata": {},
   "outputs": [
    {
     "data": {
      "image/png": "[encoded data removed]",
      "text/plain": [
       "<Figure size 640x480 with 1 Axes>"
      ]
     },
     "metadata": {},
     "output_type": "display_data"
    }
   ],
   "source": [
    "counts = tipi2.value_counts().sort_index()\n",
    "ax = counts.plot.barh(\n",
    "    color='#e89e1e',\n",
    "    alpha=0.6\n",
    ")\n",
    "plt.title('Frequenze dei Tipi secondari dei Pokemon')\n",
    "plt.gcf().set_facecolor('#e3e7f0')\n",
    "plt.xticks(np.arange(0,181,20))\n",
    "plt.show()"
   ]
  },
  {
   "cell_type": "code",
   "execution_count": 33,
   "metadata": {},
   "outputs": [
    {
     "data": {
      "text/html": [
       "<div>\n",
       "<style scoped>\n",
       "    .dataframe tbody tr th:only-of-type {\n",
       "        vertical-align: middle;\n",
       "    }\n",
       "\n",
       "    .dataframe tbody tr th {\n",
       "        vertical-align: top;\n",
       "    }\n",
       "\n",
       "    .dataframe thead th {\n",
       "        text-align: right;\n",
       "    }\n",
       "</style>\n",
       "<table border=\"1\" class=\"dataframe\">\n",
       "  <thead>\n",
       "    <tr style=\"text-align: right;\">\n",
       "      <th></th>\n",
       "      <th>Primary Freq</th>\n",
       "      <th>Secondary Freq</th>\n",
       "    </tr>\n",
       "  </thead>\n",
       "  <tbody>\n",
       "    <tr>\n",
       "      <th>Bug</th>\n",
       "      <td>115</td>\n",
       "      <td>10</td>\n",
       "    </tr>\n",
       "    <tr>\n",
       "      <th>Dark</th>\n",
       "      <td>59</td>\n",
       "      <td>35</td>\n",
       "    </tr>\n",
       "    <tr>\n",
       "      <th>Dragon</th>\n",
       "      <td>49</td>\n",
       "      <td>49</td>\n",
       "    </tr>\n",
       "    <tr>\n",
       "      <th>Electric</th>\n",
       "      <td>80</td>\n",
       "      <td>14</td>\n",
       "    </tr>\n",
       "    <tr>\n",
       "      <th>Fairy</th>\n",
       "      <td>53</td>\n",
       "      <td>46</td>\n",
       "    </tr>\n",
       "    <tr>\n",
       "      <th>Fighting</th>\n",
       "      <td>57</td>\n",
       "      <td>43</td>\n",
       "    </tr>\n",
       "    <tr>\n",
       "      <th>Fire</th>\n",
       "      <td>79</td>\n",
       "      <td>24</td>\n",
       "    </tr>\n",
       "    <tr>\n",
       "      <th>Flying</th>\n",
       "      <td>11</td>\n",
       "      <td>152</td>\n",
       "    </tr>\n",
       "    <tr>\n",
       "      <th>Ghost</th>\n",
       "      <td>53</td>\n",
       "      <td>45</td>\n",
       "    </tr>\n",
       "    <tr>\n",
       "      <th>Grass</th>\n",
       "      <td>125</td>\n",
       "      <td>40</td>\n",
       "    </tr>\n",
       "    <tr>\n",
       "      <th>Ground</th>\n",
       "      <td>51</td>\n",
       "      <td>45</td>\n",
       "    </tr>\n",
       "    <tr>\n",
       "      <th>Ice</th>\n",
       "      <td>45</td>\n",
       "      <td>24</td>\n",
       "    </tr>\n",
       "    <tr>\n",
       "      <th>Normal</th>\n",
       "      <td>153</td>\n",
       "      <td>20</td>\n",
       "    </tr>\n",
       "    <tr>\n",
       "      <th>Poison</th>\n",
       "      <td>50</td>\n",
       "      <td>53</td>\n",
       "    </tr>\n",
       "    <tr>\n",
       "      <th>Psychic</th>\n",
       "      <td>116</td>\n",
       "      <td>57</td>\n",
       "    </tr>\n",
       "    <tr>\n",
       "      <th>Rock</th>\n",
       "      <td>76</td>\n",
       "      <td>22</td>\n",
       "    </tr>\n",
       "    <tr>\n",
       "      <th>Steel</th>\n",
       "      <td>51</td>\n",
       "      <td>45</td>\n",
       "    </tr>\n",
       "    <tr>\n",
       "      <th>Water</th>\n",
       "      <td>159</td>\n",
       "      <td>28</td>\n",
       "    </tr>\n",
       "  </tbody>\n",
       "</table>\n",
       "</div>"
      ],
      "text/plain": [
       "          Primary Freq  Secondary Freq\n",
       "Bug                115              10\n",
       "Dark                59              35\n",
       "Dragon              49              49\n",
       "Electric            80              14\n",
       "Fairy               53              46\n",
       "Fighting            57              43\n",
       "Fire                79              24\n",
       "Flying              11             152\n",
       "Ghost               53              45\n",
       "Grass              125              40\n",
       "Ground              51              45\n",
       "Ice                 45              24\n",
       "Normal             153              20\n",
       "Poison              50              53\n",
       "Psychic            116              57\n",
       "Rock                76              22\n",
       "Steel               51              45\n",
       "Water              159              28"
      ]
     },
     "execution_count": 33,
     "metadata": {},
     "output_type": "execute_result"
    }
   ],
   "source": [
    "confronto_tipi = pd.DataFrame(\n",
    "    {\n",
    "        'Primary Freq': tipi.value_counts().sort_index().values,\n",
    "        'Secondary Freq': tipi2.value_counts().sort_index().values\n",
    "    },\n",
    "    index = tipi.value_counts().sort_index().index\n",
    ")\n",
    "confronto_tipi"
   ]
  },
  {
   "cell_type": "code",
   "execution_count": 34,
   "metadata": {},
   "outputs": [
    {
     "data": {
      "image/png": "[encoded data removed]",
      "text/plain": [
       "<Figure size 640x480 with 1 Axes>"
      ]
     },
     "metadata": {},
     "output_type": "display_data"
    }
   ],
   "source": [
    "confronto_tipi.plot.barh(color=['#446cc2','#e89e1e'], alpha = .6)\n",
    "plt.legend(bbox_to_anchor=(1.05, 1), loc='upper left', borderaxespad=0)\n",
    "plt.title('Confronto frequenze tipo primario e tipo secondario')\n",
    "plt.show()"
   ]
  },
  {
   "cell_type": "code",
   "execution_count": 36,
   "metadata": {},
   "outputs": [
    {
     "data": {
      "text/plain": [
       "array(['\"Grass\"', '\"Fire\"', '\"Water\"', '\"Bug\"', '\"Normal\"', '\"Dark\"',\n",
       "       '\"Poison\"', '\"Electric\"', '\"Ground\"', '\"Ice\"', '\"Fairy\"',\n",
       "       '\"Steel\"', '\"Fighting\"', '\"Psychic\"', '\"Rock\"', '\"Ghost\"',\n",
       "       '\"Dragon\"', '\"Flying\"'], dtype=object)"
      ]
     },
     "execution_count": 36,
     "metadata": {},
     "output_type": "execute_result"
    }
   ],
   "source": [
    "df['Primary Type'].unique()"
   ]
  },
  {
   "cell_type": "code",
   "execution_count": 42,
   "metadata": {},
   "outputs": [
    {
     "name": "stderr",
     "output_type": "stream",
     "text": [
      "c:\\Users\\ele20\\anaconda3\\envs\\Statistica\\Lib\\site-packages\\seaborn\\_oldcore.py:1119: FutureWarning:\n",
      "\n",
      "use_inf_as_na option is deprecated and will be removed in a future version. Convert inf values to NaN before operating instead.\n",
      "\n",
      "c:\\Users\\ele20\\anaconda3\\envs\\Statistica\\Lib\\site-packages\\seaborn\\_oldcore.py:1119: FutureWarning:\n",
      "\n",
      "use_inf_as_na option is deprecated and will be removed in a future version. Convert inf values to NaN before operating instead.\n",
      "\n"
     ]
    },
    {
     "data": {
      "image/png": "[encoded data removed]",
      "text/plain": [
       "<Figure size 640x480 with 1 Axes>"
      ]
     },
     "metadata": {},
     "output_type": "display_data"
    },
    {
     "name": "stderr",
     "output_type": "stream",
     "text": [
      "c:\\Users\\ele20\\anaconda3\\envs\\Statistica\\Lib\\site-packages\\seaborn\\_oldcore.py:1119: FutureWarning:\n",
      "\n",
      "use_inf_as_na option is deprecated and will be removed in a future version. Convert inf values to NaN before operating instead.\n",
      "\n",
      "c:\\Users\\ele20\\anaconda3\\envs\\Statistica\\Lib\\site-packages\\seaborn\\_oldcore.py:1119: FutureWarning:\n",
      "\n",
      "use_inf_as_na option is deprecated and will be removed in a future version. Convert inf values to NaN before operating instead.\n",
      "\n"
     ]
    },
    {
     "data": {
      "image/png": "[encoded data removed]",
      "text/plain": [
       "<Figure size 640x480 with 1 Axes>"
      ]
     },
     "metadata": {},
     "output_type": "display_data"
    },
    {
     "name": "stderr",
     "output_type": "stream",
     "text": [
      "c:\\Users\\ele20\\anaconda3\\envs\\Statistica\\Lib\\site-packages\\seaborn\\_oldcore.py:1119: FutureWarning:\n",
      "\n",
      "use_inf_as_na option is deprecated and will be removed in a future version. Convert inf values to NaN before operating instead.\n",
      "\n",
      "c:\\Users\\ele20\\anaconda3\\envs\\Statistica\\Lib\\site-packages\\seaborn\\_oldcore.py:1119: FutureWarning:\n",
      "\n",
      "use_inf_as_na option is deprecated and will be removed in a future version. Convert inf values to NaN before operating instead.\n",
      "\n"
     ]
    },
    {
     "data": {
      "image/png": "[encoded data removed]",
      "text/plain": [
       "<Figure size 640x480 with 1 Axes>"
      ]
     },
     "metadata": {},
     "output_type": "display_data"
    },
    {
     "name": "stderr",
     "output_type": "stream",
     "text": [
      "c:\\Users\\ele20\\anaconda3\\envs\\Statistica\\Lib\\site-packages\\seaborn\\_oldcore.py:1119: FutureWarning:\n",
      "\n",
      "use_inf_as_na option is deprecated and will be removed in a future version. Convert inf values to NaN before operating instead.\n",
      "\n",
      "c:\\Users\\ele20\\anaconda3\\envs\\Statistica\\Lib\\site-packages\\seaborn\\_oldcore.py:1119: FutureWarning:\n",
      "\n",
      "use_inf_as_na option is deprecated and will be removed in a future version. Convert inf values to NaN before operating instead.\n",
      "\n"
     ]
    },
    {
     "data": {
      "image/png": "[encoded data removed]",
      "text/plain": [
       "<Figure size 640x480 with 1 Axes>"
      ]
     },
     "metadata": {},
     "output_type": "display_data"
    }
   ],
   "source": [
    "tipi_principali = [\n",
    "    ('\"Grass\"','#009300','#02f702'),('\"Water\"','#015691','#007DD4'),('\"Fire\"','#911201','#FF2E12'),('\"Electric\"','y','#F3DF15')\n",
    "    ]\n",
    "for x in tipi_principali : \n",
    "    data = df[df['Primary Type'] == x[0]]['Attack Stat']\n",
    "    data2 = df[df['Primary Type'] == x[0]]['Defense Stat']\n",
    "    sns.kdeplot(data2, color='blue',alpha=0.5, label='Difesa', fill=False)\n",
    "    sns.kdeplot(data, color='red', alpha=0.5, label='Attacco', fill=False)\n",
    "    plt.legend()\n",
    "    plt.xlabel('valori')\n",
    "    plt.ylabel('Densità')\n",
    "    plt.gcf().set_facecolor('#e3e7f0')\n",
    "    plt.xticks(np.arange(-50, 251, 50))\n",
    "    plt.yticks(np.arange(0, 0.020, 0.002))\n",
    "    plt.show()"
   ]
  },
  {
   "cell_type": "code",
   "execution_count": 38,
   "metadata": {},
   "outputs": [
    {
     "name": "stderr",
     "output_type": "stream",
     "text": [
      "c:\\Users\\ele20\\anaconda3\\envs\\Statistica\\Lib\\site-packages\\seaborn\\_oldcore.py:1119: FutureWarning:\n",
      "\n",
      "use_inf_as_na option is deprecated and will be removed in a future version. Convert inf values to NaN before operating instead.\n",
      "\n",
      "c:\\Users\\ele20\\anaconda3\\envs\\Statistica\\Lib\\site-packages\\seaborn\\_oldcore.py:1119: FutureWarning:\n",
      "\n",
      "use_inf_as_na option is deprecated and will be removed in a future version. Convert inf values to NaN before operating instead.\n",
      "\n",
      "c:\\Users\\ele20\\anaconda3\\envs\\Statistica\\Lib\\site-packages\\seaborn\\_oldcore.py:1119: FutureWarning:\n",
      "\n",
      "use_inf_as_na option is deprecated and will be removed in a future version. Convert inf values to NaN before operating instead.\n",
      "\n",
      "c:\\Users\\ele20\\anaconda3\\envs\\Statistica\\Lib\\site-packages\\seaborn\\_oldcore.py:1119: FutureWarning:\n",
      "\n",
      "use_inf_as_na option is deprecated and will be removed in a future version. Convert inf values to NaN before operating instead.\n",
      "\n"
     ]
    },
    {
     "data": {
      "image/png": "[encoded data removed]",
      "text/plain": [
       "<Figure size 640x480 with 1 Axes>"
      ]
     },
     "metadata": {},
     "output_type": "display_data"
    }
   ],
   "source": [
    "principal_types = [('\"Grass\"','g'),('\"Fire\"','r'),('\"Electric\"','y'),('\"Water\"','b')]\n",
    "for s in principal_types :\n",
    "    data = df[df['Primary Type'] == s[0]]['Attack Stat']\n",
    "    sns.kdeplot(data, color=s[1])\n",
    "    plt.gcf().set_facecolor('#e3e7f0')\n",
    "    plt.xlabel('Attacco')\n",
    "    plt.ylabel('Densità')\n",
    "plt.show()"
   ]
  },
  {
   "cell_type": "code",
   "execution_count": null,
   "metadata": {},
   "outputs": [],
   "source": []
  }
 ],
 "metadata": {
  "kernelspec": {
   "display_name": ".env",
   "language": "python",
   "name": "python3"
  },
  "language_info": {
   "codemirror_mode": {
    "name": "ipython",
    "version": 3
   },
   "file_extension": ".py",
   "mimetype": "text/x-python",
   "name": "python",
   "nbconvert_exporter": "python",
   "pygments_lexer": "ipython3",
   "version": "3.12.0"
  }
 },
 "nbformat": 4,
 "nbformat_minor": 2
}
