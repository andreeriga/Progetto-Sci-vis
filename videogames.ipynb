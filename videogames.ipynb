{
 "cells": [
  {
   "cell_type": "code",
   "execution_count": null,
   "metadata": {},
   "outputs": [],
   "source": [
    "import matplotlib.pyplot as plt\n",
    "import pandas as pd\n",
    "import plotly.graph_objects as go"
   ]
  },
  {
   "cell_type": "code",
   "execution_count": 20,
   "metadata": {},
   "outputs": [
    {
     "data": {
      "text/html": [
       "<div>\n",
       "<style scoped>\n",
       "    .dataframe tbody tr th:only-of-type {\n",
       "        vertical-align: middle;\n",
       "    }\n",
       "\n",
       "    .dataframe tbody tr th {\n",
       "        vertical-align: top;\n",
       "    }\n",
       "\n",
       "    .dataframe thead th {\n",
       "        text-align: right;\n",
       "    }\n",
       "</style>\n",
       "<table border=\"1\" class=\"dataframe\">\n",
       "  <thead>\n",
       "    <tr style=\"text-align: right;\">\n",
       "      <th></th>\n",
       "      <th>Name</th>\n",
       "      <th>Platform</th>\n",
       "      <th>Year</th>\n",
       "      <th>Genre</th>\n",
       "      <th>Publisher</th>\n",
       "      <th>NA_Sales</th>\n",
       "      <th>EU_Sales</th>\n",
       "      <th>JP_Sales</th>\n",
       "      <th>Other_Sales</th>\n",
       "      <th>Global_Sales</th>\n",
       "    </tr>\n",
       "    <tr>\n",
       "      <th>Rank</th>\n",
       "      <th></th>\n",
       "      <th></th>\n",
       "      <th></th>\n",
       "      <th></th>\n",
       "      <th></th>\n",
       "      <th></th>\n",
       "      <th></th>\n",
       "      <th></th>\n",
       "      <th></th>\n",
       "      <th></th>\n",
       "    </tr>\n",
       "  </thead>\n",
       "  <tbody>\n",
       "    <tr>\n",
       "      <th>1</th>\n",
       "      <td>Wii Sports</td>\n",
       "      <td>Wii</td>\n",
       "      <td>2006.0</td>\n",
       "      <td>Sports</td>\n",
       "      <td>Nintendo</td>\n",
       "      <td>41.49</td>\n",
       "      <td>29.02</td>\n",
       "      <td>3.77</td>\n",
       "      <td>8.46</td>\n",
       "      <td>82.74</td>\n",
       "    </tr>\n",
       "    <tr>\n",
       "      <th>2</th>\n",
       "      <td>Super Mario Bros.</td>\n",
       "      <td>NES</td>\n",
       "      <td>1985.0</td>\n",
       "      <td>Platform</td>\n",
       "      <td>Nintendo</td>\n",
       "      <td>29.08</td>\n",
       "      <td>3.58</td>\n",
       "      <td>6.81</td>\n",
       "      <td>0.77</td>\n",
       "      <td>40.24</td>\n",
       "    </tr>\n",
       "    <tr>\n",
       "      <th>3</th>\n",
       "      <td>Mario Kart Wii</td>\n",
       "      <td>Wii</td>\n",
       "      <td>2008.0</td>\n",
       "      <td>Racing</td>\n",
       "      <td>Nintendo</td>\n",
       "      <td>15.85</td>\n",
       "      <td>12.88</td>\n",
       "      <td>3.79</td>\n",
       "      <td>3.31</td>\n",
       "      <td>35.82</td>\n",
       "    </tr>\n",
       "    <tr>\n",
       "      <th>4</th>\n",
       "      <td>Wii Sports Resort</td>\n",
       "      <td>Wii</td>\n",
       "      <td>2009.0</td>\n",
       "      <td>Sports</td>\n",
       "      <td>Nintendo</td>\n",
       "      <td>15.75</td>\n",
       "      <td>11.01</td>\n",
       "      <td>3.28</td>\n",
       "      <td>2.96</td>\n",
       "      <td>33.00</td>\n",
       "    </tr>\n",
       "    <tr>\n",
       "      <th>5</th>\n",
       "      <td>Pokemon Red/Pokemon Blue</td>\n",
       "      <td>GB</td>\n",
       "      <td>1996.0</td>\n",
       "      <td>Role-Playing</td>\n",
       "      <td>Nintendo</td>\n",
       "      <td>11.27</td>\n",
       "      <td>8.89</td>\n",
       "      <td>10.22</td>\n",
       "      <td>1.00</td>\n",
       "      <td>31.37</td>\n",
       "    </tr>\n",
       "    <tr>\n",
       "      <th>...</th>\n",
       "      <td>...</td>\n",
       "      <td>...</td>\n",
       "      <td>...</td>\n",
       "      <td>...</td>\n",
       "      <td>...</td>\n",
       "      <td>...</td>\n",
       "      <td>...</td>\n",
       "      <td>...</td>\n",
       "      <td>...</td>\n",
       "      <td>...</td>\n",
       "    </tr>\n",
       "    <tr>\n",
       "      <th>16596</th>\n",
       "      <td>Woody Woodpecker in Crazy Castle 5</td>\n",
       "      <td>GBA</td>\n",
       "      <td>2002.0</td>\n",
       "      <td>Platform</td>\n",
       "      <td>Kemco</td>\n",
       "      <td>0.01</td>\n",
       "      <td>0.00</td>\n",
       "      <td>0.00</td>\n",
       "      <td>0.00</td>\n",
       "      <td>0.01</td>\n",
       "    </tr>\n",
       "    <tr>\n",
       "      <th>16597</th>\n",
       "      <td>Men in Black II: Alien Escape</td>\n",
       "      <td>GC</td>\n",
       "      <td>2003.0</td>\n",
       "      <td>Shooter</td>\n",
       "      <td>Infogrames</td>\n",
       "      <td>0.01</td>\n",
       "      <td>0.00</td>\n",
       "      <td>0.00</td>\n",
       "      <td>0.00</td>\n",
       "      <td>0.01</td>\n",
       "    </tr>\n",
       "    <tr>\n",
       "      <th>16598</th>\n",
       "      <td>SCORE International Baja 1000: The Official Game</td>\n",
       "      <td>PS2</td>\n",
       "      <td>2008.0</td>\n",
       "      <td>Racing</td>\n",
       "      <td>Activision</td>\n",
       "      <td>0.00</td>\n",
       "      <td>0.00</td>\n",
       "      <td>0.00</td>\n",
       "      <td>0.00</td>\n",
       "      <td>0.01</td>\n",
       "    </tr>\n",
       "    <tr>\n",
       "      <th>16599</th>\n",
       "      <td>Know How 2</td>\n",
       "      <td>DS</td>\n",
       "      <td>2010.0</td>\n",
       "      <td>Puzzle</td>\n",
       "      <td>7G//AMES</td>\n",
       "      <td>0.00</td>\n",
       "      <td>0.01</td>\n",
       "      <td>0.00</td>\n",
       "      <td>0.00</td>\n",
       "      <td>0.01</td>\n",
       "    </tr>\n",
       "    <tr>\n",
       "      <th>16600</th>\n",
       "      <td>Spirits &amp; Spells</td>\n",
       "      <td>GBA</td>\n",
       "      <td>2003.0</td>\n",
       "      <td>Platform</td>\n",
       "      <td>Wanadoo</td>\n",
       "      <td>0.01</td>\n",
       "      <td>0.00</td>\n",
       "      <td>0.00</td>\n",
       "      <td>0.00</td>\n",
       "      <td>0.01</td>\n",
       "    </tr>\n",
       "  </tbody>\n",
       "</table>\n",
       "<p>16598 rows × 10 columns</p>\n",
       "</div>"
      ],
      "text/plain": [
       "                                                   Name Platform    Year  \\\n",
       "Rank                                                                       \n",
       "1                                            Wii Sports      Wii  2006.0   \n",
       "2                                     Super Mario Bros.      NES  1985.0   \n",
       "3                                        Mario Kart Wii      Wii  2008.0   \n",
       "4                                     Wii Sports Resort      Wii  2009.0   \n",
       "5                              Pokemon Red/Pokemon Blue       GB  1996.0   \n",
       "...                                                 ...      ...     ...   \n",
       "16596                Woody Woodpecker in Crazy Castle 5      GBA  2002.0   \n",
       "16597                     Men in Black II: Alien Escape       GC  2003.0   \n",
       "16598  SCORE International Baja 1000: The Official Game      PS2  2008.0   \n",
       "16599                                        Know How 2       DS  2010.0   \n",
       "16600                                  Spirits & Spells      GBA  2003.0   \n",
       "\n",
       "              Genre   Publisher  NA_Sales  EU_Sales  JP_Sales  Other_Sales  \\\n",
       "Rank                                                                         \n",
       "1            Sports    Nintendo     41.49     29.02      3.77         8.46   \n",
       "2          Platform    Nintendo     29.08      3.58      6.81         0.77   \n",
       "3            Racing    Nintendo     15.85     12.88      3.79         3.31   \n",
       "4            Sports    Nintendo     15.75     11.01      3.28         2.96   \n",
       "5      Role-Playing    Nintendo     11.27      8.89     10.22         1.00   \n",
       "...             ...         ...       ...       ...       ...          ...   \n",
       "16596      Platform       Kemco      0.01      0.00      0.00         0.00   \n",
       "16597       Shooter  Infogrames      0.01      0.00      0.00         0.00   \n",
       "16598        Racing  Activision      0.00      0.00      0.00         0.00   \n",
       "16599        Puzzle    7G//AMES      0.00      0.01      0.00         0.00   \n",
       "16600      Platform     Wanadoo      0.01      0.00      0.00         0.00   \n",
       "\n",
       "       Global_Sales  \n",
       "Rank                 \n",
       "1             82.74  \n",
       "2             40.24  \n",
       "3             35.82  \n",
       "4             33.00  \n",
       "5             31.37  \n",
       "...             ...  \n",
       "16596          0.01  \n",
       "16597          0.01  \n",
       "16598          0.01  \n",
       "16599          0.01  \n",
       "16600          0.01  \n",
       "\n",
       "[16598 rows x 10 columns]"
      ]
     },
     "execution_count": 20,
     "metadata": {},
     "output_type": "execute_result"
    }
   ],
   "source": [
    "vg = pd.read_csv('VIDEOGAMES/vgsales.csv', index_col=0)\n",
    "vg"
   ]
  },
  {
   "cell_type": "code",
   "execution_count": 21,
   "metadata": {},
   "outputs": [],
   "source": [
    "pokemon = vg[['Pokemon' in s for s in vg['Name']]]\n",
    "nintendo = vg[vg['Publisher'] == 'Nintendo']"
   ]
  },
  {
   "cell_type": "code",
   "execution_count": 22,
   "metadata": {},
   "outputs": [],
   "source": [
    "top_100 = vg[:100]"
   ]
  },
  {
   "cell_type": "code",
   "execution_count": 23,
   "metadata": {},
   "outputs": [
    {
     "data": {
      "text/plain": [
       "Index(['Name', 'Platform', 'Year', 'Genre', 'Publisher', 'NA_Sales',\n",
       "       'EU_Sales', 'JP_Sales', 'Other_Sales', 'Global_Sales'],\n",
       "      dtype='object')"
      ]
     },
     "execution_count": 23,
     "metadata": {},
     "output_type": "execute_result"
    }
   ],
   "source": [
    "vg.columns"
   ]
  },
  {
   "cell_type": "code",
   "execution_count": 24,
   "metadata": {},
   "outputs": [
    {
     "data": {
      "text/plain": [
       "(0.049786628733997154, 0.9502133712660028)"
      ]
     },
     "execution_count": 24,
     "metadata": {},
     "output_type": "execute_result"
    }
   ],
   "source": [
    "percentuale_pokemon = len(pokemon)/len(nintendo)\n",
    "percentuale_non_pokemon = 1 - percentuale_pokemon\n",
    "(percentuale_pokemon,percentuale_non_pokemon)"
   ]
  },
  {
   "cell_type": "code",
   "execution_count": null,
   "metadata": {},
   "outputs": [
    {
     "data": {
      "application/vnd.plotly.v1+json": {
       "config": {
        "plotlyServerURL": "https://plot.ly"
       },
       "data": [
        {
         "labels": [
          "Pokémon",
          "Altri giochi Nintendo"
         ],
         "marker": {
          "colors": [
           "lightblue",
           "rgba(32, 199, 49,.7)"
          ]
         },
         "pull": [
          0.1,
          0
         ],
         "textinfo": "none",
         "textposition": "inside",
         "type": "pie",
         "values": [
          4.978662873399715,
          95.02133712660029
         ]
        }
       ],
       "layout": {
        "paper_bgcolor": "#e3e7f0",
        "template": {
         "data": {
          "bar": [
           {
            "error_x": {
             "color": "#2a3f5f"
            },
            "error_y": {
             "color": "#2a3f5f"
            },
            "marker": {
             "line": {
              "color": "#E5ECF6",
              "width": 0.5
             },
             "pattern": {
              "fillmode": "overlay",
              "size": 10,
              "solidity": 0.2
             }
            },
            "type": "bar"
           }
          ],
          "barpolar": [
           {
            "marker": {
             "line": {
              "color": "#E5ECF6",
              "width": 0.5
             },
             "pattern": {
              "fillmode": "overlay",
              "size": 10,
              "solidity": 0.2
             }
            },
            "type": "barpolar"
           }
          ],
          "carpet": [
           {
            "aaxis": {
             "endlinecolor": "#2a3f5f",
             "gridcolor": "white",
             "linecolor": "white",
             "minorgridcolor": "white",
             "startlinecolor": "#2a3f5f"
            },
            "baxis": {
             "endlinecolor": "#2a3f5f",
             "gridcolor": "white",
             "linecolor": "white",
             "minorgridcolor": "white",
             "startlinecolor": "#2a3f5f"
            },
            "type": "carpet"
           }
          ],
          "choropleth": [
           {
            "colorbar": {
             "outlinewidth": 0,
             "ticks": ""
            },
            "type": "choropleth"
           }
          ],
          "contour": [
           {
            "colorbar": {
             "outlinewidth": 0,
             "ticks": ""
            },
            "colorscale": [
             [
              0,
              "#0d0887"
             ],
             [
              0.1111111111111111,
              "#46039f"
             ],
             [
              0.2222222222222222,
              "#7201a8"
             ],
             [
              0.3333333333333333,
              "#9c179e"
             ],
             [
              0.4444444444444444,
              "#bd3786"
             ],
             [
              0.5555555555555556,
              "#d8576b"
             ],
             [
              0.6666666666666666,
              "#ed7953"
             ],
             [
              0.7777777777777778,
              "#fb9f3a"
             ],
             [
              0.8888888888888888,
              "#fdca26"
             ],
             [
              1,
              "#f0f921"
             ]
            ],
            "type": "contour"
           }
          ],
          "contourcarpet": [
           {
            "colorbar": {
             "outlinewidth": 0,
             "ticks": ""
            },
            "type": "contourcarpet"
           }
          ],
          "heatmap": [
           {
            "colorbar": {
             "outlinewidth": 0,
             "ticks": ""
            },
            "colorscale": [
             [
              0,
              "#0d0887"
             ],
             [
              0.1111111111111111,
              "#46039f"
             ],
             [
              0.2222222222222222,
              "#7201a8"
             ],
             [
              0.3333333333333333,
              "#9c179e"
             ],
             [
              0.4444444444444444,
              "#bd3786"
             ],
             [
              0.5555555555555556,
              "#d8576b"
             ],
             [
              0.6666666666666666,
              "#ed7953"
             ],
             [
              0.7777777777777778,
              "#fb9f3a"
             ],
             [
              0.8888888888888888,
              "#fdca26"
             ],
             [
              1,
              "#f0f921"
             ]
            ],
            "type": "heatmap"
           }
          ],
          "heatmapgl": [
           {
            "colorbar": {
             "outlinewidth": 0,
             "ticks": ""
            },
            "colorscale": [
             [
              0,
              "#0d0887"
             ],
             [
              0.1111111111111111,
              "#46039f"
             ],
             [
              0.2222222222222222,
              "#7201a8"
             ],
             [
              0.3333333333333333,
              "#9c179e"
             ],
             [
              0.4444444444444444,
              "#bd3786"
             ],
             [
              0.5555555555555556,
              "#d8576b"
             ],
             [
              0.6666666666666666,
              "#ed7953"
             ],
             [
              0.7777777777777778,
              "#fb9f3a"
             ],
             [
              0.8888888888888888,
              "#fdca26"
             ],
             [
              1,
              "#f0f921"
             ]
            ],
            "type": "heatmapgl"
           }
          ],
          "histogram": [
           {
            "marker": {
             "pattern": {
              "fillmode": "overlay",
              "size": 10,
              "solidity": 0.2
             }
            },
            "type": "histogram"
           }
          ],
          "histogram2d": [
           {
            "colorbar": {
             "outlinewidth": 0,
             "ticks": ""
            },
            "colorscale": [
             [
              0,
              "#0d0887"
             ],
             [
              0.1111111111111111,
              "#46039f"
             ],
             [
              0.2222222222222222,
              "#7201a8"
             ],
             [
              0.3333333333333333,
              "#9c179e"
             ],
             [
              0.4444444444444444,
              "#bd3786"
             ],
             [
              0.5555555555555556,
              "#d8576b"
             ],
             [
              0.6666666666666666,
              "#ed7953"
             ],
             [
              0.7777777777777778,
              "#fb9f3a"
             ],
             [
              0.8888888888888888,
              "#fdca26"
             ],
             [
              1,
              "#f0f921"
             ]
            ],
            "type": "histogram2d"
           }
          ],
          "histogram2dcontour": [
           {
            "colorbar": {
             "outlinewidth": 0,
             "ticks": ""
            },
            "colorscale": [
             [
              0,
              "#0d0887"
             ],
             [
              0.1111111111111111,
              "#46039f"
             ],
             [
              0.2222222222222222,
              "#7201a8"
             ],
             [
              0.3333333333333333,
              "#9c179e"
             ],
             [
              0.4444444444444444,
              "#bd3786"
             ],
             [
              0.5555555555555556,
              "#d8576b"
             ],
             [
              0.6666666666666666,
              "#ed7953"
             ],
             [
              0.7777777777777778,
              "#fb9f3a"
             ],
             [
              0.8888888888888888,
              "#fdca26"
             ],
             [
              1,
              "#f0f921"
             ]
            ],
            "type": "histogram2dcontour"
           }
          ],
          "mesh3d": [
           {
            "colorbar": {
             "outlinewidth": 0,
             "ticks": ""
            },
            "type": "mesh3d"
           }
          ],
          "parcoords": [
           {
            "line": {
             "colorbar": {
              "outlinewidth": 0,
              "ticks": ""
             }
            },
            "type": "parcoords"
           }
          ],
          "pie": [
           {
            "automargin": true,
            "type": "pie"
           }
          ],
          "scatter": [
           {
            "fillpattern": {
             "fillmode": "overlay",
             "size": 10,
             "solidity": 0.2
            },
            "type": "scatter"
           }
          ],
          "scatter3d": [
           {
            "line": {
             "colorbar": {
              "outlinewidth": 0,
              "ticks": ""
             }
            },
            "marker": {
             "colorbar": {
              "outlinewidth": 0,
              "ticks": ""
             }
            },
            "type": "scatter3d"
           }
          ],
          "scattercarpet": [
           {
            "marker": {
             "colorbar": {
              "outlinewidth": 0,
              "ticks": ""
             }
            },
            "type": "scattercarpet"
           }
          ],
          "scattergeo": [
           {
            "marker": {
             "colorbar": {
              "outlinewidth": 0,
              "ticks": ""
             }
            },
            "type": "scattergeo"
           }
          ],
          "scattergl": [
           {
            "marker": {
             "colorbar": {
              "outlinewidth": 0,
              "ticks": ""
             }
            },
            "type": "scattergl"
           }
          ],
          "scattermapbox": [
           {
            "marker": {
             "colorbar": {
              "outlinewidth": 0,
              "ticks": ""
             }
            },
            "type": "scattermapbox"
           }
          ],
          "scatterpolar": [
           {
            "marker": {
             "colorbar": {
              "outlinewidth": 0,
              "ticks": ""
             }
            },
            "type": "scatterpolar"
           }
          ],
          "scatterpolargl": [
           {
            "marker": {
             "colorbar": {
              "outlinewidth": 0,
              "ticks": ""
             }
            },
            "type": "scatterpolargl"
           }
          ],
          "scatterternary": [
           {
            "marker": {
             "colorbar": {
              "outlinewidth": 0,
              "ticks": ""
             }
            },
            "type": "scatterternary"
           }
          ],
          "surface": [
           {
            "colorbar": {
             "outlinewidth": 0,
             "ticks": ""
            },
            "colorscale": [
             [
              0,
              "#0d0887"
             ],
             [
              0.1111111111111111,
              "#46039f"
             ],
             [
              0.2222222222222222,
              "#7201a8"
             ],
             [
              0.3333333333333333,
              "#9c179e"
             ],
             [
              0.4444444444444444,
              "#bd3786"
             ],
             [
              0.5555555555555556,
              "#d8576b"
             ],
             [
              0.6666666666666666,
              "#ed7953"
             ],
             [
              0.7777777777777778,
              "#fb9f3a"
             ],
             [
              0.8888888888888888,
              "#fdca26"
             ],
             [
              1,
              "#f0f921"
             ]
            ],
            "type": "surface"
           }
          ],
          "table": [
           {
            "cells": {
             "fill": {
              "color": "#EBF0F8"
             },
             "line": {
              "color": "white"
             }
            },
            "header": {
             "fill": {
              "color": "#C8D4E3"
             },
             "line": {
              "color": "white"
             }
            },
            "type": "table"
           }
          ]
         },
         "layout": {
          "annotationdefaults": {
           "arrowcolor": "#2a3f5f",
           "arrowhead": 0,
           "arrowwidth": 1
          },
          "autotypenumbers": "strict",
          "coloraxis": {
           "colorbar": {
            "outlinewidth": 0,
            "ticks": ""
           }
          },
          "colorscale": {
           "diverging": [
            [
             0,
             "#8e0152"
            ],
            [
             0.1,
             "#c51b7d"
            ],
            [
             0.2,
             "#de77ae"
            ],
            [
             0.3,
             "#f1b6da"
            ],
            [
             0.4,
             "#fde0ef"
            ],
            [
             0.5,
             "#f7f7f7"
            ],
            [
             0.6,
             "#e6f5d0"
            ],
            [
             0.7,
             "#b8e186"
            ],
            [
             0.8,
             "#7fbc41"
            ],
            [
             0.9,
             "#4d9221"
            ],
            [
             1,
             "#276419"
            ]
           ],
           "sequential": [
            [
             0,
             "#0d0887"
            ],
            [
             0.1111111111111111,
             "#46039f"
            ],
            [
             0.2222222222222222,
             "#7201a8"
            ],
            [
             0.3333333333333333,
             "#9c179e"
            ],
            [
             0.4444444444444444,
             "#bd3786"
            ],
            [
             0.5555555555555556,
             "#d8576b"
            ],
            [
             0.6666666666666666,
             "#ed7953"
            ],
            [
             0.7777777777777778,
             "#fb9f3a"
            ],
            [
             0.8888888888888888,
             "#fdca26"
            ],
            [
             1,
             "#f0f921"
            ]
           ],
           "sequentialminus": [
            [
             0,
             "#0d0887"
            ],
            [
             0.1111111111111111,
             "#46039f"
            ],
            [
             0.2222222222222222,
             "#7201a8"
            ],
            [
             0.3333333333333333,
             "#9c179e"
            ],
            [
             0.4444444444444444,
             "#bd3786"
            ],
            [
             0.5555555555555556,
             "#d8576b"
            ],
            [
             0.6666666666666666,
             "#ed7953"
            ],
            [
             0.7777777777777778,
             "#fb9f3a"
            ],
            [
             0.8888888888888888,
             "#fdca26"
            ],
            [
             1,
             "#f0f921"
            ]
           ]
          },
          "colorway": [
           "#636efa",
           "#EF553B",
           "#00cc96",
           "#ab63fa",
           "#FFA15A",
           "#19d3f3",
           "#FF6692",
           "#B6E880",
           "#FF97FF",
           "#FECB52"
          ],
          "font": {
           "color": "#2a3f5f"
          },
          "geo": {
           "bgcolor": "white",
           "lakecolor": "white",
           "landcolor": "#E5ECF6",
           "showlakes": true,
           "showland": true,
           "subunitcolor": "white"
          },
          "hoverlabel": {
           "align": "left"
          },
          "hovermode": "closest",
          "mapbox": {
           "style": "light"
          },
          "paper_bgcolor": "white",
          "plot_bgcolor": "#E5ECF6",
          "polar": {
           "angularaxis": {
            "gridcolor": "white",
            "linecolor": "white",
            "ticks": ""
           },
           "bgcolor": "#E5ECF6",
           "radialaxis": {
            "gridcolor": "white",
            "linecolor": "white",
            "ticks": ""
           }
          },
          "scene": {
           "xaxis": {
            "backgroundcolor": "#E5ECF6",
            "gridcolor": "white",
            "gridwidth": 2,
            "linecolor": "white",
            "showbackground": true,
            "ticks": "",
            "zerolinecolor": "white"
           },
           "yaxis": {
            "backgroundcolor": "#E5ECF6",
            "gridcolor": "white",
            "gridwidth": 2,
            "linecolor": "white",
            "showbackground": true,
            "ticks": "",
            "zerolinecolor": "white"
           },
           "zaxis": {
            "backgroundcolor": "#E5ECF6",
            "gridcolor": "white",
            "gridwidth": 2,
            "linecolor": "white",
            "showbackground": true,
            "ticks": "",
            "zerolinecolor": "white"
           }
          },
          "shapedefaults": {
           "line": {
            "color": "#2a3f5f"
           }
          },
          "ternary": {
           "aaxis": {
            "gridcolor": "white",
            "linecolor": "white",
            "ticks": ""
           },
           "baxis": {
            "gridcolor": "white",
            "linecolor": "white",
            "ticks": ""
           },
           "bgcolor": "#E5ECF6",
           "caxis": {
            "gridcolor": "white",
            "linecolor": "white",
            "ticks": ""
           }
          },
          "title": {
           "x": 0.05
          },
          "xaxis": {
           "automargin": true,
           "gridcolor": "white",
           "linecolor": "white",
           "ticks": "",
           "title": {
            "standoff": 15
           },
           "zerolinecolor": "white",
           "zerolinewidth": 2
          },
          "yaxis": {
           "automargin": true,
           "gridcolor": "white",
           "linecolor": "white",
           "ticks": "",
           "title": {
            "standoff": 15
           },
           "zerolinecolor": "white",
           "zerolinewidth": 2
          }
         }
        },
        "uniformtext": {
         "minsize": 12,
         "mode": "hide"
        }
       }
      }
     },
     "metadata": {},
     "output_type": "display_data"
    }
   ],
   "source": [
    "labels = ['Pokémon', 'Altri giochi Nintendo']\n",
    "values = [percentuale_pokemon*100,percentuale_non_pokemon*100]\n",
    "pulls = [0.1,0]\n",
    "fig = go.Figure(data=[go.Pie(labels=labels, values=values, pull=pulls,marker_colors=['lightblue','rgba(32, 199, 49,.7)'],textinfo='none')])\n",
    "fig.update_traces(textposition='inside')\n",
    "fig.update_layout(\n",
    "    paper_bgcolor = \"#e3e7f0\",\n",
    "    uniformtext_minsize=12, \n",
    "    uniformtext_mode='hide'\n",
    ")\n",
    "fig.show()"
   ]
  },
  {
   "cell_type": "code",
   "execution_count": 26,
   "metadata": {},
   "outputs": [
    {
     "data": {
      "text/plain": [
       "[('Nintendo', 2541.337126600285),\n",
       " ('Microsoft Game Studios', 1300.4761904761906),\n",
       " ('Take-Two Interactive', 967.4092009685229),\n",
       " ('Sony Computer Entertainment', 889.458272327965),\n",
       " ('Activision', 746.1128205128206),\n",
       " ('Ubisoft', 515.4397394136809),\n",
       " ('Bethesda Softworks', 1156.9014084507044),\n",
       " ('Electronic Arts', 821.8504811250926),\n",
       " ('Sega', 427.2143974960876),\n",
       " ('SquareSoft', 1108.6538461538462),\n",
       " ('Atari', 433.1129476584022)]"
      ]
     },
     "execution_count": 26,
     "metadata": {},
     "output_type": "execute_result"
    }
   ],
   "source": [
    "publisher = vg[:100]['Publisher'].unique()\n",
    "def mean_vendite(df, publishers) :\n",
    "    res = []\n",
    "    for publisher in publishers :\n",
    "        media_vendite = df[df['Publisher'] == publisher]['Global_Sales'].mean()*(10**3)\n",
    "        res.append((publisher, media_vendite))\n",
    "    return res\n",
    "medie = mean_vendite(vg,publisher)\n",
    "medie"
   ]
  },
  {
   "cell_type": "code",
   "execution_count": 27,
   "metadata": {},
   "outputs": [
    {
     "data": {
      "text/plain": [
       "Nintendo                       2541.337127\n",
       "Microsoft Game Studios         1300.476190\n",
       "Take-Two Interactive            967.409201\n",
       "Sony Computer Entertainment     889.458272\n",
       "Activision                      746.112821\n",
       "Ubisoft                         515.439739\n",
       "Bethesda Softworks             1156.901408\n",
       "Electronic Arts                 821.850481\n",
       "Sega                            427.214397\n",
       "SquareSoft                     1108.653846\n",
       "Atari                           433.112948\n",
       "dtype: float64"
      ]
     },
     "execution_count": 27,
     "metadata": {},
     "output_type": "execute_result"
    }
   ],
   "source": [
    "serie_medie_vendite = pd.Series(\n",
    "    [x[1] for x in medie],\n",
    "    [x[0] for x in medie]\n",
    ")\n",
    "serie_medie_vendite"
   ]
  },
  {
   "cell_type": "code",
   "execution_count": 28,
   "metadata": {},
   "outputs": [
    {
     "data": {
      "image/png": "[encoded data removed]",
      "text/plain": [
       "<Figure size 640x480 with 1 Axes>"
      ]
     },
     "metadata": {},
     "output_type": "display_data"
    }
   ],
   "source": [
    "serie_medie_vendite.plot.barh(\n",
    "    color='lightgreen',\n",
    "    alpha=.7\n",
    ")\n",
    "plt.gcf().set_facecolor('#e3e7f0')\n",
    "plt.xlabel('Migliaia di copie vendute')\n",
    "plt.show()"
   ]
  },
  {
   "cell_type": "code",
   "execution_count": 29,
   "metadata": {},
   "outputs": [
    {
     "data": {
      "text/html": [
       "<div>\n",
       "<style scoped>\n",
       "    .dataframe tbody tr th:only-of-type {\n",
       "        vertical-align: middle;\n",
       "    }\n",
       "\n",
       "    .dataframe tbody tr th {\n",
       "        vertical-align: top;\n",
       "    }\n",
       "\n",
       "    .dataframe thead th {\n",
       "        text-align: right;\n",
       "    }\n",
       "</style>\n",
       "<table border=\"1\" class=\"dataframe\">\n",
       "  <thead>\n",
       "    <tr style=\"text-align: right;\">\n",
       "      <th></th>\n",
       "      <th>Name</th>\n",
       "      <th>Platform</th>\n",
       "      <th>Year</th>\n",
       "      <th>Genre</th>\n",
       "      <th>Publisher</th>\n",
       "      <th>NA_Sales</th>\n",
       "      <th>EU_Sales</th>\n",
       "      <th>JP_Sales</th>\n",
       "      <th>Other_Sales</th>\n",
       "      <th>Global_Sales</th>\n",
       "    </tr>\n",
       "    <tr>\n",
       "      <th>Rank</th>\n",
       "      <th></th>\n",
       "      <th></th>\n",
       "      <th></th>\n",
       "      <th></th>\n",
       "      <th></th>\n",
       "      <th></th>\n",
       "      <th></th>\n",
       "      <th></th>\n",
       "      <th></th>\n",
       "      <th></th>\n",
       "    </tr>\n",
       "  </thead>\n",
       "  <tbody>\n",
       "    <tr>\n",
       "      <th>5</th>\n",
       "      <td>Pokemon Red/Pokemon Blue</td>\n",
       "      <td>GB</td>\n",
       "      <td>1996.0</td>\n",
       "      <td>Role-Playing</td>\n",
       "      <td>Nintendo</td>\n",
       "      <td>11.27</td>\n",
       "      <td>8.89</td>\n",
       "      <td>10.22</td>\n",
       "      <td>1.00</td>\n",
       "      <td>31.37</td>\n",
       "    </tr>\n",
       "    <tr>\n",
       "      <th>13</th>\n",
       "      <td>Pokemon Gold/Pokemon Silver</td>\n",
       "      <td>GB</td>\n",
       "      <td>1999.0</td>\n",
       "      <td>Role-Playing</td>\n",
       "      <td>Nintendo</td>\n",
       "      <td>9.00</td>\n",
       "      <td>6.18</td>\n",
       "      <td>7.20</td>\n",
       "      <td>0.71</td>\n",
       "      <td>23.10</td>\n",
       "    </tr>\n",
       "    <tr>\n",
       "      <th>21</th>\n",
       "      <td>Pokemon Diamond/Pokemon Pearl</td>\n",
       "      <td>DS</td>\n",
       "      <td>2006.0</td>\n",
       "      <td>Role-Playing</td>\n",
       "      <td>Nintendo</td>\n",
       "      <td>6.42</td>\n",
       "      <td>4.52</td>\n",
       "      <td>6.04</td>\n",
       "      <td>1.37</td>\n",
       "      <td>18.36</td>\n",
       "    </tr>\n",
       "    <tr>\n",
       "      <th>26</th>\n",
       "      <td>Pokemon Ruby/Pokemon Sapphire</td>\n",
       "      <td>GBA</td>\n",
       "      <td>2002.0</td>\n",
       "      <td>Role-Playing</td>\n",
       "      <td>Nintendo</td>\n",
       "      <td>6.06</td>\n",
       "      <td>3.90</td>\n",
       "      <td>5.38</td>\n",
       "      <td>0.50</td>\n",
       "      <td>15.85</td>\n",
       "    </tr>\n",
       "    <tr>\n",
       "      <th>27</th>\n",
       "      <td>Pokemon Black/Pokemon White</td>\n",
       "      <td>DS</td>\n",
       "      <td>2010.0</td>\n",
       "      <td>Role-Playing</td>\n",
       "      <td>Nintendo</td>\n",
       "      <td>5.57</td>\n",
       "      <td>3.28</td>\n",
       "      <td>5.65</td>\n",
       "      <td>0.82</td>\n",
       "      <td>15.32</td>\n",
       "    </tr>\n",
       "    <tr>\n",
       "      <th>33</th>\n",
       "      <td>Pokemon X/Pokemon Y</td>\n",
       "      <td>3DS</td>\n",
       "      <td>2013.0</td>\n",
       "      <td>Role-Playing</td>\n",
       "      <td>Nintendo</td>\n",
       "      <td>5.17</td>\n",
       "      <td>4.05</td>\n",
       "      <td>4.34</td>\n",
       "      <td>0.79</td>\n",
       "      <td>14.35</td>\n",
       "    </tr>\n",
       "    <tr>\n",
       "      <th>46</th>\n",
       "      <td>Pokemon HeartGold/Pokemon SoulSilver</td>\n",
       "      <td>DS</td>\n",
       "      <td>2009.0</td>\n",
       "      <td>Action</td>\n",
       "      <td>Nintendo</td>\n",
       "      <td>4.40</td>\n",
       "      <td>2.77</td>\n",
       "      <td>3.96</td>\n",
       "      <td>0.77</td>\n",
       "      <td>11.90</td>\n",
       "    </tr>\n",
       "    <tr>\n",
       "      <th>50</th>\n",
       "      <td>Pokemon Omega Ruby/Pokemon Alpha Sapphire</td>\n",
       "      <td>3DS</td>\n",
       "      <td>2014.0</td>\n",
       "      <td>Role-Playing</td>\n",
       "      <td>Nintendo</td>\n",
       "      <td>4.23</td>\n",
       "      <td>3.37</td>\n",
       "      <td>3.08</td>\n",
       "      <td>0.65</td>\n",
       "      <td>11.33</td>\n",
       "    </tr>\n",
       "    <tr>\n",
       "      <th>59</th>\n",
       "      <td>Pokemon FireRed/Pokemon LeafGreen</td>\n",
       "      <td>GBA</td>\n",
       "      <td>2004.0</td>\n",
       "      <td>Role-Playing</td>\n",
       "      <td>Nintendo</td>\n",
       "      <td>4.34</td>\n",
       "      <td>2.65</td>\n",
       "      <td>3.15</td>\n",
       "      <td>0.35</td>\n",
       "      <td>10.49</td>\n",
       "    </tr>\n",
       "    <tr>\n",
       "      <th>82</th>\n",
       "      <td>Pokemon Black 2/Pokemon White 2</td>\n",
       "      <td>DS</td>\n",
       "      <td>2012.0</td>\n",
       "      <td>Role-Playing</td>\n",
       "      <td>Nintendo</td>\n",
       "      <td>2.91</td>\n",
       "      <td>1.86</td>\n",
       "      <td>3.14</td>\n",
       "      <td>0.43</td>\n",
       "      <td>8.33</td>\n",
       "    </tr>\n",
       "  </tbody>\n",
       "</table>\n",
       "</div>"
      ],
      "text/plain": [
       "                                           Name Platform    Year  \\\n",
       "Rank                                                               \n",
       "5                      Pokemon Red/Pokemon Blue       GB  1996.0   \n",
       "13                  Pokemon Gold/Pokemon Silver       GB  1999.0   \n",
       "21                Pokemon Diamond/Pokemon Pearl       DS  2006.0   \n",
       "26                Pokemon Ruby/Pokemon Sapphire      GBA  2002.0   \n",
       "27                  Pokemon Black/Pokemon White       DS  2010.0   \n",
       "33                          Pokemon X/Pokemon Y      3DS  2013.0   \n",
       "46         Pokemon HeartGold/Pokemon SoulSilver       DS  2009.0   \n",
       "50    Pokemon Omega Ruby/Pokemon Alpha Sapphire      3DS  2014.0   \n",
       "59            Pokemon FireRed/Pokemon LeafGreen      GBA  2004.0   \n",
       "82              Pokemon Black 2/Pokemon White 2       DS  2012.0   \n",
       "\n",
       "             Genre Publisher  NA_Sales  EU_Sales  JP_Sales  Other_Sales  \\\n",
       "Rank                                                                      \n",
       "5     Role-Playing  Nintendo     11.27      8.89     10.22         1.00   \n",
       "13    Role-Playing  Nintendo      9.00      6.18      7.20         0.71   \n",
       "21    Role-Playing  Nintendo      6.42      4.52      6.04         1.37   \n",
       "26    Role-Playing  Nintendo      6.06      3.90      5.38         0.50   \n",
       "27    Role-Playing  Nintendo      5.57      3.28      5.65         0.82   \n",
       "33    Role-Playing  Nintendo      5.17      4.05      4.34         0.79   \n",
       "46          Action  Nintendo      4.40      2.77      3.96         0.77   \n",
       "50    Role-Playing  Nintendo      4.23      3.37      3.08         0.65   \n",
       "59    Role-Playing  Nintendo      4.34      2.65      3.15         0.35   \n",
       "82    Role-Playing  Nintendo      2.91      1.86      3.14         0.43   \n",
       "\n",
       "      Global_Sales  \n",
       "Rank                \n",
       "5            31.37  \n",
       "13           23.10  \n",
       "21           18.36  \n",
       "26           15.85  \n",
       "27           15.32  \n",
       "33           14.35  \n",
       "46           11.90  \n",
       "50           11.33  \n",
       "59           10.49  \n",
       "82            8.33  "
      ]
     },
     "execution_count": 29,
     "metadata": {},
     "output_type": "execute_result"
    }
   ],
   "source": [
    "pokemon_top_100 = top_100[['Pokemon' in s for s in top_100['Name']]]\n",
    "pokemon_top_100"
   ]
  },
  {
   "cell_type": "code",
   "execution_count": 30,
   "metadata": {},
   "outputs": [
    {
     "data": {
      "text/html": [
       "<div>\n",
       "<style scoped>\n",
       "    .dataframe tbody tr th:only-of-type {\n",
       "        vertical-align: middle;\n",
       "    }\n",
       "\n",
       "    .dataframe tbody tr th {\n",
       "        vertical-align: top;\n",
       "    }\n",
       "\n",
       "    .dataframe thead th {\n",
       "        text-align: right;\n",
       "    }\n",
       "</style>\n",
       "<table border=\"1\" class=\"dataframe\">\n",
       "  <thead>\n",
       "    <tr style=\"text-align: right;\">\n",
       "      <th></th>\n",
       "      <th>Name</th>\n",
       "      <th>Platform</th>\n",
       "      <th>Year</th>\n",
       "      <th>Genre</th>\n",
       "      <th>Publisher</th>\n",
       "      <th>NA_Sales</th>\n",
       "      <th>EU_Sales</th>\n",
       "      <th>JP_Sales</th>\n",
       "      <th>Other_Sales</th>\n",
       "      <th>Global_Sales</th>\n",
       "    </tr>\n",
       "    <tr>\n",
       "      <th>Rank</th>\n",
       "      <th></th>\n",
       "      <th></th>\n",
       "      <th></th>\n",
       "      <th></th>\n",
       "      <th></th>\n",
       "      <th></th>\n",
       "      <th></th>\n",
       "      <th></th>\n",
       "      <th></th>\n",
       "      <th></th>\n",
       "    </tr>\n",
       "  </thead>\n",
       "  <tbody>\n",
       "    <tr>\n",
       "      <th>1</th>\n",
       "      <td>Wii Sports</td>\n",
       "      <td>Wii</td>\n",
       "      <td>2006.0</td>\n",
       "      <td>Sports</td>\n",
       "      <td>Nintendo</td>\n",
       "      <td>41.49</td>\n",
       "      <td>29.02</td>\n",
       "      <td>3.77</td>\n",
       "      <td>8.46</td>\n",
       "      <td>82.74</td>\n",
       "    </tr>\n",
       "    <tr>\n",
       "      <th>2</th>\n",
       "      <td>Super Mario Bros.</td>\n",
       "      <td>NES</td>\n",
       "      <td>1985.0</td>\n",
       "      <td>Platform</td>\n",
       "      <td>Nintendo</td>\n",
       "      <td>29.08</td>\n",
       "      <td>3.58</td>\n",
       "      <td>6.81</td>\n",
       "      <td>0.77</td>\n",
       "      <td>40.24</td>\n",
       "    </tr>\n",
       "    <tr>\n",
       "      <th>3</th>\n",
       "      <td>Mario Kart Wii</td>\n",
       "      <td>Wii</td>\n",
       "      <td>2008.0</td>\n",
       "      <td>Racing</td>\n",
       "      <td>Nintendo</td>\n",
       "      <td>15.85</td>\n",
       "      <td>12.88</td>\n",
       "      <td>3.79</td>\n",
       "      <td>3.31</td>\n",
       "      <td>35.82</td>\n",
       "    </tr>\n",
       "    <tr>\n",
       "      <th>4</th>\n",
       "      <td>Wii Sports Resort</td>\n",
       "      <td>Wii</td>\n",
       "      <td>2009.0</td>\n",
       "      <td>Sports</td>\n",
       "      <td>Nintendo</td>\n",
       "      <td>15.75</td>\n",
       "      <td>11.01</td>\n",
       "      <td>3.28</td>\n",
       "      <td>2.96</td>\n",
       "      <td>33.00</td>\n",
       "    </tr>\n",
       "    <tr>\n",
       "      <th>5</th>\n",
       "      <td>Pokemon Red/Pokemon Blue</td>\n",
       "      <td>GB</td>\n",
       "      <td>1996.0</td>\n",
       "      <td>Role-Playing</td>\n",
       "      <td>Nintendo</td>\n",
       "      <td>11.27</td>\n",
       "      <td>8.89</td>\n",
       "      <td>10.22</td>\n",
       "      <td>1.00</td>\n",
       "      <td>31.37</td>\n",
       "    </tr>\n",
       "  </tbody>\n",
       "</table>\n",
       "</div>"
      ],
      "text/plain": [
       "                          Name Platform    Year         Genre Publisher  \\\n",
       "Rank                                                                      \n",
       "1                   Wii Sports      Wii  2006.0        Sports  Nintendo   \n",
       "2            Super Mario Bros.      NES  1985.0      Platform  Nintendo   \n",
       "3               Mario Kart Wii      Wii  2008.0        Racing  Nintendo   \n",
       "4            Wii Sports Resort      Wii  2009.0        Sports  Nintendo   \n",
       "5     Pokemon Red/Pokemon Blue       GB  1996.0  Role-Playing  Nintendo   \n",
       "\n",
       "      NA_Sales  EU_Sales  JP_Sales  Other_Sales  Global_Sales  \n",
       "Rank                                                           \n",
       "1        41.49     29.02      3.77         8.46         82.74  \n",
       "2        29.08      3.58      6.81         0.77         40.24  \n",
       "3        15.85     12.88      3.79         3.31         35.82  \n",
       "4        15.75     11.01      3.28         2.96         33.00  \n",
       "5        11.27      8.89     10.22         1.00         31.37  "
      ]
     },
     "execution_count": 30,
     "metadata": {},
     "output_type": "execute_result"
    }
   ],
   "source": [
    "#prendo tutti i giochi della nintendo che non sono pokemon in top 100\n",
    "nintendo_top_100 = top_100[top_100['Publisher'] == 'Nintendo']\n",
    "nintendo_top_100.head()"
   ]
  },
  {
   "cell_type": "code",
   "execution_count": 31,
   "metadata": {},
   "outputs": [
    {
     "data": {
      "text/html": [
       "<div>\n",
       "<style scoped>\n",
       "    .dataframe tbody tr th:only-of-type {\n",
       "        vertical-align: middle;\n",
       "    }\n",
       "\n",
       "    .dataframe tbody tr th {\n",
       "        vertical-align: top;\n",
       "    }\n",
       "\n",
       "    .dataframe thead th {\n",
       "        text-align: right;\n",
       "    }\n",
       "</style>\n",
       "<table border=\"1\" class=\"dataframe\">\n",
       "  <thead>\n",
       "    <tr style=\"text-align: right;\">\n",
       "      <th></th>\n",
       "      <th>Name</th>\n",
       "      <th>Platform</th>\n",
       "      <th>Year</th>\n",
       "      <th>Genre</th>\n",
       "      <th>Publisher</th>\n",
       "      <th>NA_Sales</th>\n",
       "      <th>EU_Sales</th>\n",
       "      <th>JP_Sales</th>\n",
       "      <th>Other_Sales</th>\n",
       "      <th>Global_Sales</th>\n",
       "    </tr>\n",
       "    <tr>\n",
       "      <th>Rank</th>\n",
       "      <th></th>\n",
       "      <th></th>\n",
       "      <th></th>\n",
       "      <th></th>\n",
       "      <th></th>\n",
       "      <th></th>\n",
       "      <th></th>\n",
       "      <th></th>\n",
       "      <th></th>\n",
       "      <th></th>\n",
       "    </tr>\n",
       "  </thead>\n",
       "  <tbody>\n",
       "    <tr>\n",
       "      <th>16</th>\n",
       "      <td>Kinect Adventures!</td>\n",
       "      <td>X360</td>\n",
       "      <td>2010.0</td>\n",
       "      <td>Misc</td>\n",
       "      <td>Microsoft Game Studios</td>\n",
       "      <td>14.97</td>\n",
       "      <td>4.94</td>\n",
       "      <td>0.24</td>\n",
       "      <td>1.67</td>\n",
       "      <td>21.82</td>\n",
       "    </tr>\n",
       "    <tr>\n",
       "      <th>17</th>\n",
       "      <td>Grand Theft Auto V</td>\n",
       "      <td>PS3</td>\n",
       "      <td>2013.0</td>\n",
       "      <td>Action</td>\n",
       "      <td>Take-Two Interactive</td>\n",
       "      <td>7.01</td>\n",
       "      <td>9.27</td>\n",
       "      <td>0.97</td>\n",
       "      <td>4.14</td>\n",
       "      <td>21.40</td>\n",
       "    </tr>\n",
       "    <tr>\n",
       "      <th>18</th>\n",
       "      <td>Grand Theft Auto: San Andreas</td>\n",
       "      <td>PS2</td>\n",
       "      <td>2004.0</td>\n",
       "      <td>Action</td>\n",
       "      <td>Take-Two Interactive</td>\n",
       "      <td>9.43</td>\n",
       "      <td>0.40</td>\n",
       "      <td>0.41</td>\n",
       "      <td>10.57</td>\n",
       "      <td>20.81</td>\n",
       "    </tr>\n",
       "    <tr>\n",
       "      <th>24</th>\n",
       "      <td>Grand Theft Auto V</td>\n",
       "      <td>X360</td>\n",
       "      <td>2013.0</td>\n",
       "      <td>Action</td>\n",
       "      <td>Take-Two Interactive</td>\n",
       "      <td>9.63</td>\n",
       "      <td>5.31</td>\n",
       "      <td>0.06</td>\n",
       "      <td>1.38</td>\n",
       "      <td>16.38</td>\n",
       "    </tr>\n",
       "    <tr>\n",
       "      <th>25</th>\n",
       "      <td>Grand Theft Auto: Vice City</td>\n",
       "      <td>PS2</td>\n",
       "      <td>2002.0</td>\n",
       "      <td>Action</td>\n",
       "      <td>Take-Two Interactive</td>\n",
       "      <td>8.41</td>\n",
       "      <td>5.49</td>\n",
       "      <td>0.47</td>\n",
       "      <td>1.78</td>\n",
       "      <td>16.15</td>\n",
       "    </tr>\n",
       "    <tr>\n",
       "      <th>29</th>\n",
       "      <td>Gran Turismo 3: A-Spec</td>\n",
       "      <td>PS2</td>\n",
       "      <td>2001.0</td>\n",
       "      <td>Racing</td>\n",
       "      <td>Sony Computer Entertainment</td>\n",
       "      <td>6.85</td>\n",
       "      <td>5.09</td>\n",
       "      <td>1.87</td>\n",
       "      <td>1.16</td>\n",
       "      <td>14.98</td>\n",
       "    </tr>\n",
       "    <tr>\n",
       "      <th>30</th>\n",
       "      <td>Call of Duty: Modern Warfare 3</td>\n",
       "      <td>X360</td>\n",
       "      <td>2011.0</td>\n",
       "      <td>Shooter</td>\n",
       "      <td>Activision</td>\n",
       "      <td>9.03</td>\n",
       "      <td>4.28</td>\n",
       "      <td>0.13</td>\n",
       "      <td>1.32</td>\n",
       "      <td>14.76</td>\n",
       "    </tr>\n",
       "    <tr>\n",
       "      <th>32</th>\n",
       "      <td>Call of Duty: Black Ops</td>\n",
       "      <td>X360</td>\n",
       "      <td>2010.0</td>\n",
       "      <td>Shooter</td>\n",
       "      <td>Activision</td>\n",
       "      <td>9.67</td>\n",
       "      <td>3.73</td>\n",
       "      <td>0.11</td>\n",
       "      <td>1.13</td>\n",
       "      <td>14.64</td>\n",
       "    </tr>\n",
       "    <tr>\n",
       "      <th>34</th>\n",
       "      <td>Call of Duty: Black Ops 3</td>\n",
       "      <td>PS4</td>\n",
       "      <td>2015.0</td>\n",
       "      <td>Shooter</td>\n",
       "      <td>Activision</td>\n",
       "      <td>5.77</td>\n",
       "      <td>5.81</td>\n",
       "      <td>0.35</td>\n",
       "      <td>2.31</td>\n",
       "      <td>14.24</td>\n",
       "    </tr>\n",
       "    <tr>\n",
       "      <th>35</th>\n",
       "      <td>Call of Duty: Black Ops II</td>\n",
       "      <td>PS3</td>\n",
       "      <td>2012.0</td>\n",
       "      <td>Shooter</td>\n",
       "      <td>Activision</td>\n",
       "      <td>4.99</td>\n",
       "      <td>5.88</td>\n",
       "      <td>0.65</td>\n",
       "      <td>2.52</td>\n",
       "      <td>14.03</td>\n",
       "    </tr>\n",
       "    <tr>\n",
       "      <th>36</th>\n",
       "      <td>Call of Duty: Black Ops II</td>\n",
       "      <td>X360</td>\n",
       "      <td>2012.0</td>\n",
       "      <td>Shooter</td>\n",
       "      <td>Activision</td>\n",
       "      <td>8.25</td>\n",
       "      <td>4.30</td>\n",
       "      <td>0.07</td>\n",
       "      <td>1.12</td>\n",
       "      <td>13.73</td>\n",
       "    </tr>\n",
       "    <tr>\n",
       "      <th>37</th>\n",
       "      <td>Call of Duty: Modern Warfare 2</td>\n",
       "      <td>X360</td>\n",
       "      <td>2009.0</td>\n",
       "      <td>Shooter</td>\n",
       "      <td>Activision</td>\n",
       "      <td>8.52</td>\n",
       "      <td>3.63</td>\n",
       "      <td>0.08</td>\n",
       "      <td>1.29</td>\n",
       "      <td>13.51</td>\n",
       "    </tr>\n",
       "    <tr>\n",
       "      <th>38</th>\n",
       "      <td>Call of Duty: Modern Warfare 3</td>\n",
       "      <td>PS3</td>\n",
       "      <td>2011.0</td>\n",
       "      <td>Shooter</td>\n",
       "      <td>Activision</td>\n",
       "      <td>5.54</td>\n",
       "      <td>5.82</td>\n",
       "      <td>0.49</td>\n",
       "      <td>1.62</td>\n",
       "      <td>13.46</td>\n",
       "    </tr>\n",
       "    <tr>\n",
       "      <th>39</th>\n",
       "      <td>Grand Theft Auto III</td>\n",
       "      <td>PS2</td>\n",
       "      <td>2001.0</td>\n",
       "      <td>Action</td>\n",
       "      <td>Take-Two Interactive</td>\n",
       "      <td>6.99</td>\n",
       "      <td>4.51</td>\n",
       "      <td>0.30</td>\n",
       "      <td>1.30</td>\n",
       "      <td>13.10</td>\n",
       "    </tr>\n",
       "    <tr>\n",
       "      <th>41</th>\n",
       "      <td>Call of Duty: Black Ops</td>\n",
       "      <td>PS3</td>\n",
       "      <td>2010.0</td>\n",
       "      <td>Shooter</td>\n",
       "      <td>Activision</td>\n",
       "      <td>5.98</td>\n",
       "      <td>4.44</td>\n",
       "      <td>0.48</td>\n",
       "      <td>1.83</td>\n",
       "      <td>12.73</td>\n",
       "    </tr>\n",
       "    <tr>\n",
       "      <th>44</th>\n",
       "      <td>Halo 3</td>\n",
       "      <td>X360</td>\n",
       "      <td>2007.0</td>\n",
       "      <td>Shooter</td>\n",
       "      <td>Microsoft Game Studios</td>\n",
       "      <td>7.97</td>\n",
       "      <td>2.83</td>\n",
       "      <td>0.13</td>\n",
       "      <td>1.21</td>\n",
       "      <td>12.14</td>\n",
       "    </tr>\n",
       "    <tr>\n",
       "      <th>45</th>\n",
       "      <td>Grand Theft Auto V</td>\n",
       "      <td>PS4</td>\n",
       "      <td>2014.0</td>\n",
       "      <td>Action</td>\n",
       "      <td>Take-Two Interactive</td>\n",
       "      <td>3.80</td>\n",
       "      <td>5.81</td>\n",
       "      <td>0.36</td>\n",
       "      <td>2.02</td>\n",
       "      <td>11.98</td>\n",
       "    </tr>\n",
       "    <tr>\n",
       "      <th>48</th>\n",
       "      <td>Gran Turismo 4</td>\n",
       "      <td>PS2</td>\n",
       "      <td>2004.0</td>\n",
       "      <td>Racing</td>\n",
       "      <td>Sony Computer Entertainment</td>\n",
       "      <td>3.01</td>\n",
       "      <td>0.01</td>\n",
       "      <td>1.10</td>\n",
       "      <td>7.53</td>\n",
       "      <td>11.66</td>\n",
       "    </tr>\n",
       "    <tr>\n",
       "      <th>52</th>\n",
       "      <td>Grand Theft Auto IV</td>\n",
       "      <td>X360</td>\n",
       "      <td>2008.0</td>\n",
       "      <td>Action</td>\n",
       "      <td>Take-Two Interactive</td>\n",
       "      <td>6.76</td>\n",
       "      <td>3.10</td>\n",
       "      <td>0.14</td>\n",
       "      <td>1.03</td>\n",
       "      <td>11.02</td>\n",
       "    </tr>\n",
       "    <tr>\n",
       "      <th>53</th>\n",
       "      <td>Gran Turismo</td>\n",
       "      <td>PS</td>\n",
       "      <td>1997.0</td>\n",
       "      <td>Racing</td>\n",
       "      <td>Sony Computer Entertainment</td>\n",
       "      <td>4.02</td>\n",
       "      <td>3.87</td>\n",
       "      <td>2.54</td>\n",
       "      <td>0.52</td>\n",
       "      <td>10.95</td>\n",
       "    </tr>\n",
       "    <tr>\n",
       "      <th>55</th>\n",
       "      <td>Gran Turismo 5</td>\n",
       "      <td>PS3</td>\n",
       "      <td>2010.0</td>\n",
       "      <td>Racing</td>\n",
       "      <td>Sony Computer Entertainment</td>\n",
       "      <td>2.96</td>\n",
       "      <td>4.88</td>\n",
       "      <td>0.81</td>\n",
       "      <td>2.12</td>\n",
       "      <td>10.77</td>\n",
       "    </tr>\n",
       "    <tr>\n",
       "      <th>56</th>\n",
       "      <td>Call of Duty: Modern Warfare 2</td>\n",
       "      <td>PS3</td>\n",
       "      <td>2009.0</td>\n",
       "      <td>Shooter</td>\n",
       "      <td>Activision</td>\n",
       "      <td>4.99</td>\n",
       "      <td>3.69</td>\n",
       "      <td>0.38</td>\n",
       "      <td>1.63</td>\n",
       "      <td>10.69</td>\n",
       "    </tr>\n",
       "    <tr>\n",
       "      <th>57</th>\n",
       "      <td>Grand Theft Auto IV</td>\n",
       "      <td>PS3</td>\n",
       "      <td>2008.0</td>\n",
       "      <td>Action</td>\n",
       "      <td>Take-Two Interactive</td>\n",
       "      <td>4.76</td>\n",
       "      <td>3.76</td>\n",
       "      <td>0.44</td>\n",
       "      <td>1.62</td>\n",
       "      <td>10.57</td>\n",
       "    </tr>\n",
       "    <tr>\n",
       "      <th>61</th>\n",
       "      <td>Just Dance 3</td>\n",
       "      <td>Wii</td>\n",
       "      <td>2011.0</td>\n",
       "      <td>Misc</td>\n",
       "      <td>Ubisoft</td>\n",
       "      <td>6.05</td>\n",
       "      <td>3.15</td>\n",
       "      <td>0.00</td>\n",
       "      <td>1.07</td>\n",
       "      <td>10.26</td>\n",
       "    </tr>\n",
       "    <tr>\n",
       "      <th>62</th>\n",
       "      <td>Call of Duty: Ghosts</td>\n",
       "      <td>X360</td>\n",
       "      <td>2013.0</td>\n",
       "      <td>Shooter</td>\n",
       "      <td>Activision</td>\n",
       "      <td>6.72</td>\n",
       "      <td>2.63</td>\n",
       "      <td>0.04</td>\n",
       "      <td>0.82</td>\n",
       "      <td>10.21</td>\n",
       "    </tr>\n",
       "    <tr>\n",
       "      <th>63</th>\n",
       "      <td>Halo: Reach</td>\n",
       "      <td>X360</td>\n",
       "      <td>2010.0</td>\n",
       "      <td>Shooter</td>\n",
       "      <td>Microsoft Game Studios</td>\n",
       "      <td>7.03</td>\n",
       "      <td>1.98</td>\n",
       "      <td>0.08</td>\n",
       "      <td>0.78</td>\n",
       "      <td>9.88</td>\n",
       "    </tr>\n",
       "    <tr>\n",
       "      <th>66</th>\n",
       "      <td>Halo 4</td>\n",
       "      <td>X360</td>\n",
       "      <td>2012.0</td>\n",
       "      <td>Shooter</td>\n",
       "      <td>Microsoft Game Studios</td>\n",
       "      <td>6.63</td>\n",
       "      <td>2.36</td>\n",
       "      <td>0.04</td>\n",
       "      <td>0.73</td>\n",
       "      <td>9.76</td>\n",
       "    </tr>\n",
       "    <tr>\n",
       "      <th>67</th>\n",
       "      <td>Final Fantasy VII</td>\n",
       "      <td>PS</td>\n",
       "      <td>1997.0</td>\n",
       "      <td>Role-Playing</td>\n",
       "      <td>Sony Computer Entertainment</td>\n",
       "      <td>3.01</td>\n",
       "      <td>2.47</td>\n",
       "      <td>3.28</td>\n",
       "      <td>0.96</td>\n",
       "      <td>9.72</td>\n",
       "    </tr>\n",
       "    <tr>\n",
       "      <th>68</th>\n",
       "      <td>Call of Duty: Ghosts</td>\n",
       "      <td>PS3</td>\n",
       "      <td>2013.0</td>\n",
       "      <td>Shooter</td>\n",
       "      <td>Activision</td>\n",
       "      <td>4.09</td>\n",
       "      <td>3.73</td>\n",
       "      <td>0.38</td>\n",
       "      <td>1.38</td>\n",
       "      <td>9.59</td>\n",
       "    </tr>\n",
       "    <tr>\n",
       "      <th>69</th>\n",
       "      <td>Just Dance 2</td>\n",
       "      <td>Wii</td>\n",
       "      <td>2010.0</td>\n",
       "      <td>Misc</td>\n",
       "      <td>Ubisoft</td>\n",
       "      <td>5.84</td>\n",
       "      <td>2.89</td>\n",
       "      <td>0.01</td>\n",
       "      <td>0.78</td>\n",
       "      <td>9.52</td>\n",
       "    </tr>\n",
       "    <tr>\n",
       "      <th>70</th>\n",
       "      <td>Gran Turismo 2</td>\n",
       "      <td>PS</td>\n",
       "      <td>1999.0</td>\n",
       "      <td>Racing</td>\n",
       "      <td>Sony Computer Entertainment</td>\n",
       "      <td>3.88</td>\n",
       "      <td>3.42</td>\n",
       "      <td>1.69</td>\n",
       "      <td>0.50</td>\n",
       "      <td>9.49</td>\n",
       "    </tr>\n",
       "    <tr>\n",
       "      <th>71</th>\n",
       "      <td>Call of Duty 4: Modern Warfare</td>\n",
       "      <td>X360</td>\n",
       "      <td>2007.0</td>\n",
       "      <td>Shooter</td>\n",
       "      <td>Activision</td>\n",
       "      <td>5.91</td>\n",
       "      <td>2.38</td>\n",
       "      <td>0.13</td>\n",
       "      <td>0.90</td>\n",
       "      <td>9.32</td>\n",
       "    </tr>\n",
       "    <tr>\n",
       "      <th>73</th>\n",
       "      <td>Minecraft</td>\n",
       "      <td>X360</td>\n",
       "      <td>2013.0</td>\n",
       "      <td>Misc</td>\n",
       "      <td>Microsoft Game Studios</td>\n",
       "      <td>5.58</td>\n",
       "      <td>2.83</td>\n",
       "      <td>0.02</td>\n",
       "      <td>0.77</td>\n",
       "      <td>9.20</td>\n",
       "    </tr>\n",
       "    <tr>\n",
       "      <th>76</th>\n",
       "      <td>The Elder Scrolls V: Skyrim</td>\n",
       "      <td>X360</td>\n",
       "      <td>2011.0</td>\n",
       "      <td>Role-Playing</td>\n",
       "      <td>Bethesda Softworks</td>\n",
       "      <td>5.03</td>\n",
       "      <td>2.86</td>\n",
       "      <td>0.10</td>\n",
       "      <td>0.85</td>\n",
       "      <td>8.84</td>\n",
       "    </tr>\n",
       "    <tr>\n",
       "      <th>78</th>\n",
       "      <td>FIFA 16</td>\n",
       "      <td>PS4</td>\n",
       "      <td>2015.0</td>\n",
       "      <td>Sports</td>\n",
       "      <td>Electronic Arts</td>\n",
       "      <td>1.11</td>\n",
       "      <td>6.06</td>\n",
       "      <td>0.06</td>\n",
       "      <td>1.26</td>\n",
       "      <td>8.49</td>\n",
       "    </tr>\n",
       "    <tr>\n",
       "      <th>80</th>\n",
       "      <td>Halo 2</td>\n",
       "      <td>XB</td>\n",
       "      <td>2004.0</td>\n",
       "      <td>Shooter</td>\n",
       "      <td>Microsoft Game Studios</td>\n",
       "      <td>6.82</td>\n",
       "      <td>1.53</td>\n",
       "      <td>0.05</td>\n",
       "      <td>0.08</td>\n",
       "      <td>8.49</td>\n",
       "    </tr>\n",
       "    <tr>\n",
       "      <th>83</th>\n",
       "      <td>FIFA Soccer 13</td>\n",
       "      <td>PS3</td>\n",
       "      <td>2012.0</td>\n",
       "      <td>Action</td>\n",
       "      <td>Electronic Arts</td>\n",
       "      <td>1.06</td>\n",
       "      <td>5.05</td>\n",
       "      <td>0.13</td>\n",
       "      <td>2.01</td>\n",
       "      <td>8.24</td>\n",
       "    </tr>\n",
       "    <tr>\n",
       "      <th>84</th>\n",
       "      <td>The Sims 3</td>\n",
       "      <td>PC</td>\n",
       "      <td>2009.0</td>\n",
       "      <td>Simulation</td>\n",
       "      <td>Electronic Arts</td>\n",
       "      <td>0.98</td>\n",
       "      <td>6.42</td>\n",
       "      <td>0.00</td>\n",
       "      <td>0.71</td>\n",
       "      <td>8.11</td>\n",
       "    </tr>\n",
       "    <tr>\n",
       "      <th>86</th>\n",
       "      <td>Mario &amp; Sonic at the Olympic Games</td>\n",
       "      <td>Wii</td>\n",
       "      <td>2007.0</td>\n",
       "      <td>Sports</td>\n",
       "      <td>Sega</td>\n",
       "      <td>2.58</td>\n",
       "      <td>3.90</td>\n",
       "      <td>0.66</td>\n",
       "      <td>0.91</td>\n",
       "      <td>8.06</td>\n",
       "    </tr>\n",
       "    <tr>\n",
       "      <th>87</th>\n",
       "      <td>Final Fantasy X</td>\n",
       "      <td>PS2</td>\n",
       "      <td>2001.0</td>\n",
       "      <td>Role-Playing</td>\n",
       "      <td>Sony Computer Entertainment</td>\n",
       "      <td>2.91</td>\n",
       "      <td>2.07</td>\n",
       "      <td>2.73</td>\n",
       "      <td>0.33</td>\n",
       "      <td>8.05</td>\n",
       "    </tr>\n",
       "    <tr>\n",
       "      <th>88</th>\n",
       "      <td>Final Fantasy VIII</td>\n",
       "      <td>PS</td>\n",
       "      <td>1999.0</td>\n",
       "      <td>Role-Playing</td>\n",
       "      <td>SquareSoft</td>\n",
       "      <td>2.28</td>\n",
       "      <td>1.72</td>\n",
       "      <td>3.63</td>\n",
       "      <td>0.23</td>\n",
       "      <td>7.86</td>\n",
       "    </tr>\n",
       "    <tr>\n",
       "      <th>90</th>\n",
       "      <td>Pac-Man</td>\n",
       "      <td>2600</td>\n",
       "      <td>1982.0</td>\n",
       "      <td>Puzzle</td>\n",
       "      <td>Atari</td>\n",
       "      <td>7.28</td>\n",
       "      <td>0.45</td>\n",
       "      <td>0.00</td>\n",
       "      <td>0.08</td>\n",
       "      <td>7.81</td>\n",
       "    </tr>\n",
       "    <tr>\n",
       "      <th>91</th>\n",
       "      <td>Grand Theft Auto: Liberty City Stories</td>\n",
       "      <td>PSP</td>\n",
       "      <td>2005.0</td>\n",
       "      <td>Action</td>\n",
       "      <td>Take-Two Interactive</td>\n",
       "      <td>2.90</td>\n",
       "      <td>2.83</td>\n",
       "      <td>0.24</td>\n",
       "      <td>1.75</td>\n",
       "      <td>7.72</td>\n",
       "    </tr>\n",
       "    <tr>\n",
       "      <th>93</th>\n",
       "      <td>Star Wars Battlefront (2015)</td>\n",
       "      <td>PS4</td>\n",
       "      <td>2015.0</td>\n",
       "      <td>Shooter</td>\n",
       "      <td>Electronic Arts</td>\n",
       "      <td>2.93</td>\n",
       "      <td>3.29</td>\n",
       "      <td>0.22</td>\n",
       "      <td>1.23</td>\n",
       "      <td>7.67</td>\n",
       "    </tr>\n",
       "    <tr>\n",
       "      <th>94</th>\n",
       "      <td>Call of Duty: Advanced Warfare</td>\n",
       "      <td>PS4</td>\n",
       "      <td>2014.0</td>\n",
       "      <td>Shooter</td>\n",
       "      <td>Activision</td>\n",
       "      <td>2.80</td>\n",
       "      <td>3.30</td>\n",
       "      <td>0.14</td>\n",
       "      <td>1.37</td>\n",
       "      <td>7.60</td>\n",
       "    </tr>\n",
       "    <tr>\n",
       "      <th>96</th>\n",
       "      <td>Crash Bandicoot 2: Cortex Strikes Back</td>\n",
       "      <td>PS</td>\n",
       "      <td>1997.0</td>\n",
       "      <td>Platform</td>\n",
       "      <td>Sony Computer Entertainment</td>\n",
       "      <td>3.78</td>\n",
       "      <td>2.17</td>\n",
       "      <td>1.31</td>\n",
       "      <td>0.31</td>\n",
       "      <td>7.58</td>\n",
       "    </tr>\n",
       "    <tr>\n",
       "      <th>99</th>\n",
       "      <td>Call of Duty: World at War</td>\n",
       "      <td>X360</td>\n",
       "      <td>2008.0</td>\n",
       "      <td>Shooter</td>\n",
       "      <td>Activision</td>\n",
       "      <td>4.79</td>\n",
       "      <td>1.90</td>\n",
       "      <td>0.00</td>\n",
       "      <td>0.69</td>\n",
       "      <td>7.37</td>\n",
       "    </tr>\n",
       "    <tr>\n",
       "      <th>100</th>\n",
       "      <td>Battlefield 3</td>\n",
       "      <td>X360</td>\n",
       "      <td>2011.0</td>\n",
       "      <td>Shooter</td>\n",
       "      <td>Electronic Arts</td>\n",
       "      <td>4.46</td>\n",
       "      <td>2.13</td>\n",
       "      <td>0.06</td>\n",
       "      <td>0.69</td>\n",
       "      <td>7.34</td>\n",
       "    </tr>\n",
       "  </tbody>\n",
       "</table>\n",
       "</div>"
      ],
      "text/plain": [
       "                                        Name Platform    Year         Genre  \\\n",
       "Rank                                                                          \n",
       "16                        Kinect Adventures!     X360  2010.0          Misc   \n",
       "17                        Grand Theft Auto V      PS3  2013.0        Action   \n",
       "18             Grand Theft Auto: San Andreas      PS2  2004.0        Action   \n",
       "24                        Grand Theft Auto V     X360  2013.0        Action   \n",
       "25               Grand Theft Auto: Vice City      PS2  2002.0        Action   \n",
       "29                    Gran Turismo 3: A-Spec      PS2  2001.0        Racing   \n",
       "30            Call of Duty: Modern Warfare 3     X360  2011.0       Shooter   \n",
       "32                   Call of Duty: Black Ops     X360  2010.0       Shooter   \n",
       "34                 Call of Duty: Black Ops 3      PS4  2015.0       Shooter   \n",
       "35                Call of Duty: Black Ops II      PS3  2012.0       Shooter   \n",
       "36                Call of Duty: Black Ops II     X360  2012.0       Shooter   \n",
       "37            Call of Duty: Modern Warfare 2     X360  2009.0       Shooter   \n",
       "38            Call of Duty: Modern Warfare 3      PS3  2011.0       Shooter   \n",
       "39                      Grand Theft Auto III      PS2  2001.0        Action   \n",
       "41                   Call of Duty: Black Ops      PS3  2010.0       Shooter   \n",
       "44                                    Halo 3     X360  2007.0       Shooter   \n",
       "45                        Grand Theft Auto V      PS4  2014.0        Action   \n",
       "48                            Gran Turismo 4      PS2  2004.0        Racing   \n",
       "52                       Grand Theft Auto IV     X360  2008.0        Action   \n",
       "53                              Gran Turismo       PS  1997.0        Racing   \n",
       "55                            Gran Turismo 5      PS3  2010.0        Racing   \n",
       "56            Call of Duty: Modern Warfare 2      PS3  2009.0       Shooter   \n",
       "57                       Grand Theft Auto IV      PS3  2008.0        Action   \n",
       "61                              Just Dance 3      Wii  2011.0          Misc   \n",
       "62                      Call of Duty: Ghosts     X360  2013.0       Shooter   \n",
       "63                               Halo: Reach     X360  2010.0       Shooter   \n",
       "66                                    Halo 4     X360  2012.0       Shooter   \n",
       "67                         Final Fantasy VII       PS  1997.0  Role-Playing   \n",
       "68                      Call of Duty: Ghosts      PS3  2013.0       Shooter   \n",
       "69                              Just Dance 2      Wii  2010.0          Misc   \n",
       "70                            Gran Turismo 2       PS  1999.0        Racing   \n",
       "71            Call of Duty 4: Modern Warfare     X360  2007.0       Shooter   \n",
       "73                                 Minecraft     X360  2013.0          Misc   \n",
       "76               The Elder Scrolls V: Skyrim     X360  2011.0  Role-Playing   \n",
       "78                                   FIFA 16      PS4  2015.0        Sports   \n",
       "80                                    Halo 2       XB  2004.0       Shooter   \n",
       "83                            FIFA Soccer 13      PS3  2012.0        Action   \n",
       "84                                The Sims 3       PC  2009.0    Simulation   \n",
       "86        Mario & Sonic at the Olympic Games      Wii  2007.0        Sports   \n",
       "87                           Final Fantasy X      PS2  2001.0  Role-Playing   \n",
       "88                        Final Fantasy VIII       PS  1999.0  Role-Playing   \n",
       "90                                   Pac-Man     2600  1982.0        Puzzle   \n",
       "91    Grand Theft Auto: Liberty City Stories      PSP  2005.0        Action   \n",
       "93              Star Wars Battlefront (2015)      PS4  2015.0       Shooter   \n",
       "94            Call of Duty: Advanced Warfare      PS4  2014.0       Shooter   \n",
       "96    Crash Bandicoot 2: Cortex Strikes Back       PS  1997.0      Platform   \n",
       "99                Call of Duty: World at War     X360  2008.0       Shooter   \n",
       "100                            Battlefield 3     X360  2011.0       Shooter   \n",
       "\n",
       "                        Publisher  NA_Sales  EU_Sales  JP_Sales  Other_Sales  \\\n",
       "Rank                                                                           \n",
       "16         Microsoft Game Studios     14.97      4.94      0.24         1.67   \n",
       "17           Take-Two Interactive      7.01      9.27      0.97         4.14   \n",
       "18           Take-Two Interactive      9.43      0.40      0.41        10.57   \n",
       "24           Take-Two Interactive      9.63      5.31      0.06         1.38   \n",
       "25           Take-Two Interactive      8.41      5.49      0.47         1.78   \n",
       "29    Sony Computer Entertainment      6.85      5.09      1.87         1.16   \n",
       "30                     Activision      9.03      4.28      0.13         1.32   \n",
       "32                     Activision      9.67      3.73      0.11         1.13   \n",
       "34                     Activision      5.77      5.81      0.35         2.31   \n",
       "35                     Activision      4.99      5.88      0.65         2.52   \n",
       "36                     Activision      8.25      4.30      0.07         1.12   \n",
       "37                     Activision      8.52      3.63      0.08         1.29   \n",
       "38                     Activision      5.54      5.82      0.49         1.62   \n",
       "39           Take-Two Interactive      6.99      4.51      0.30         1.30   \n",
       "41                     Activision      5.98      4.44      0.48         1.83   \n",
       "44         Microsoft Game Studios      7.97      2.83      0.13         1.21   \n",
       "45           Take-Two Interactive      3.80      5.81      0.36         2.02   \n",
       "48    Sony Computer Entertainment      3.01      0.01      1.10         7.53   \n",
       "52           Take-Two Interactive      6.76      3.10      0.14         1.03   \n",
       "53    Sony Computer Entertainment      4.02      3.87      2.54         0.52   \n",
       "55    Sony Computer Entertainment      2.96      4.88      0.81         2.12   \n",
       "56                     Activision      4.99      3.69      0.38         1.63   \n",
       "57           Take-Two Interactive      4.76      3.76      0.44         1.62   \n",
       "61                        Ubisoft      6.05      3.15      0.00         1.07   \n",
       "62                     Activision      6.72      2.63      0.04         0.82   \n",
       "63         Microsoft Game Studios      7.03      1.98      0.08         0.78   \n",
       "66         Microsoft Game Studios      6.63      2.36      0.04         0.73   \n",
       "67    Sony Computer Entertainment      3.01      2.47      3.28         0.96   \n",
       "68                     Activision      4.09      3.73      0.38         1.38   \n",
       "69                        Ubisoft      5.84      2.89      0.01         0.78   \n",
       "70    Sony Computer Entertainment      3.88      3.42      1.69         0.50   \n",
       "71                     Activision      5.91      2.38      0.13         0.90   \n",
       "73         Microsoft Game Studios      5.58      2.83      0.02         0.77   \n",
       "76             Bethesda Softworks      5.03      2.86      0.10         0.85   \n",
       "78                Electronic Arts      1.11      6.06      0.06         1.26   \n",
       "80         Microsoft Game Studios      6.82      1.53      0.05         0.08   \n",
       "83                Electronic Arts      1.06      5.05      0.13         2.01   \n",
       "84                Electronic Arts      0.98      6.42      0.00         0.71   \n",
       "86                           Sega      2.58      3.90      0.66         0.91   \n",
       "87    Sony Computer Entertainment      2.91      2.07      2.73         0.33   \n",
       "88                     SquareSoft      2.28      1.72      3.63         0.23   \n",
       "90                          Atari      7.28      0.45      0.00         0.08   \n",
       "91           Take-Two Interactive      2.90      2.83      0.24         1.75   \n",
       "93                Electronic Arts      2.93      3.29      0.22         1.23   \n",
       "94                     Activision      2.80      3.30      0.14         1.37   \n",
       "96    Sony Computer Entertainment      3.78      2.17      1.31         0.31   \n",
       "99                     Activision      4.79      1.90      0.00         0.69   \n",
       "100               Electronic Arts      4.46      2.13      0.06         0.69   \n",
       "\n",
       "      Global_Sales  \n",
       "Rank                \n",
       "16           21.82  \n",
       "17           21.40  \n",
       "18           20.81  \n",
       "24           16.38  \n",
       "25           16.15  \n",
       "29           14.98  \n",
       "30           14.76  \n",
       "32           14.64  \n",
       "34           14.24  \n",
       "35           14.03  \n",
       "36           13.73  \n",
       "37           13.51  \n",
       "38           13.46  \n",
       "39           13.10  \n",
       "41           12.73  \n",
       "44           12.14  \n",
       "45           11.98  \n",
       "48           11.66  \n",
       "52           11.02  \n",
       "53           10.95  \n",
       "55           10.77  \n",
       "56           10.69  \n",
       "57           10.57  \n",
       "61           10.26  \n",
       "62           10.21  \n",
       "63            9.88  \n",
       "66            9.76  \n",
       "67            9.72  \n",
       "68            9.59  \n",
       "69            9.52  \n",
       "70            9.49  \n",
       "71            9.32  \n",
       "73            9.20  \n",
       "76            8.84  \n",
       "78            8.49  \n",
       "80            8.49  \n",
       "83            8.24  \n",
       "84            8.11  \n",
       "86            8.06  \n",
       "87            8.05  \n",
       "88            7.86  \n",
       "90            7.81  \n",
       "91            7.72  \n",
       "93            7.67  \n",
       "94            7.60  \n",
       "96            7.58  \n",
       "99            7.37  \n",
       "100           7.34  "
      ]
     },
     "execution_count": 31,
     "metadata": {},
     "output_type": "execute_result"
    }
   ],
   "source": [
    "#tutti gli altri \"giochi/publisher\" in top 100\n",
    "altri_top_100 = top_100[top_100['Publisher'] != 'Nintendo']\n",
    "altri_top_100"
   ]
  },
  {
   "cell_type": "code",
   "execution_count": 32,
   "metadata": {},
   "outputs": [
    {
     "data": {
      "text/plain": [
       "[('Microsoft Game Studios', 6),\n",
       " ('Take-Two Interactive', 9),\n",
       " ('Sony Computer Entertainment', 8),\n",
       " ('Activision', 14),\n",
       " ('Ubisoft', 2),\n",
       " ('Bethesda Softworks', 1),\n",
       " ('Electronic Arts', 5),\n",
       " ('Sega', 1),\n",
       " ('SquareSoft', 1),\n",
       " ('Atari', 1),\n",
       " ('Pokémon', 10),\n",
       " ('Nintendo', 52)]"
      ]
     },
     "execution_count": 32,
     "metadata": {},
     "output_type": "execute_result"
    }
   ],
   "source": [
    "def diversi_publ(df, nomi):\n",
    "    res = []\n",
    "    for nome in nomi:\n",
    "        res.append((nome,len(df[df['Publisher'] == nome])))\n",
    "    return res\n",
    "els = []\n",
    "for x in diversi_publ(altri_top_100, altri_top_100['Publisher'].unique()) : \n",
    "    els.append(x)\n",
    "els.append(('Pokémon', len(pokemon_top_100)))\n",
    "els.append(('Nintendo', len(nintendo_top_100)))\n",
    "els "
   ]
  },
  {
   "cell_type": "code",
   "execution_count": 33,
   "metadata": {},
   "outputs": [
    {
     "data": {
      "application/vnd.plotly.v1+json": {
       "config": {
        "plotlyServerURL": "https://plot.ly"
       },
       "data": [
        {
         "labels": [
          "Microsoft Game Studios",
          "Take-Two Interactive",
          "Sony Computer Entertainment",
          "Activision",
          "Ubisoft",
          "Bethesda Softworks",
          "Electronic Arts",
          "Sega",
          "SquareSoft",
          "Atari",
          "Pokémon",
          "Nintendo"
         ],
         "marker": {
          "colors": [
           "rgba(255, 99, 132, .7)",
           "rgba(117, 112, 111, .7)",
           "rgba(255, 206, 86, .7)",
           "rgba(75, 192, 192, .7)",
           "rgba(153, 102, 255, .8)",
           "rgba(255, 159, 64, .7)",
           "rgba(255, 99, 71, .7)",
           "rgba(60, 179, 113, .7)",
           "rgba(129, 181, 9, .7)",
           "rgba(161, 5, 116, .7)",
           "rgba(255, 140, 0, .7)",
           "rgba(144, 238, 144, .7)"
          ]
         },
         "pull": [
          0,
          0,
          0,
          0,
          0,
          0,
          0,
          0,
          0,
          0,
          0.1,
          0
         ],
         "textposition": "inside",
         "type": "pie",
         "values": [
          6,
          9,
          8,
          14,
          2,
          1,
          5,
          1,
          1,
          1,
          10,
          52
         ]
        }
       ],
       "layout": {
        "paper_bgcolor": "#e3e7f0",
        "template": {
         "data": {
          "bar": [
           {
            "error_x": {
             "color": "#2a3f5f"
            },
            "error_y": {
             "color": "#2a3f5f"
            },
            "marker": {
             "line": {
              "color": "#E5ECF6",
              "width": 0.5
             },
             "pattern": {
              "fillmode": "overlay",
              "size": 10,
              "solidity": 0.2
             }
            },
            "type": "bar"
           }
          ],
          "barpolar": [
           {
            "marker": {
             "line": {
              "color": "#E5ECF6",
              "width": 0.5
             },
             "pattern": {
              "fillmode": "overlay",
              "size": 10,
              "solidity": 0.2
             }
            },
            "type": "barpolar"
           }
          ],
          "carpet": [
           {
            "aaxis": {
             "endlinecolor": "#2a3f5f",
             "gridcolor": "white",
             "linecolor": "white",
             "minorgridcolor": "white",
             "startlinecolor": "#2a3f5f"
            },
            "baxis": {
             "endlinecolor": "#2a3f5f",
             "gridcolor": "white",
             "linecolor": "white",
             "minorgridcolor": "white",
             "startlinecolor": "#2a3f5f"
            },
            "type": "carpet"
           }
          ],
          "choropleth": [
           {
            "colorbar": {
             "outlinewidth": 0,
             "ticks": ""
            },
            "type": "choropleth"
           }
          ],
          "contour": [
           {
            "colorbar": {
             "outlinewidth": 0,
             "ticks": ""
            },
            "colorscale": [
             [
              0,
              "#0d0887"
             ],
             [
              0.1111111111111111,
              "#46039f"
             ],
             [
              0.2222222222222222,
              "#7201a8"
             ],
             [
              0.3333333333333333,
              "#9c179e"
             ],
             [
              0.4444444444444444,
              "#bd3786"
             ],
             [
              0.5555555555555556,
              "#d8576b"
             ],
             [
              0.6666666666666666,
              "#ed7953"
             ],
             [
              0.7777777777777778,
              "#fb9f3a"
             ],
             [
              0.8888888888888888,
              "#fdca26"
             ],
             [
              1,
              "#f0f921"
             ]
            ],
            "type": "contour"
           }
          ],
          "contourcarpet": [
           {
            "colorbar": {
             "outlinewidth": 0,
             "ticks": ""
            },
            "type": "contourcarpet"
           }
          ],
          "heatmap": [
           {
            "colorbar": {
             "outlinewidth": 0,
             "ticks": ""
            },
            "colorscale": [
             [
              0,
              "#0d0887"
             ],
             [
              0.1111111111111111,
              "#46039f"
             ],
             [
              0.2222222222222222,
              "#7201a8"
             ],
             [
              0.3333333333333333,
              "#9c179e"
             ],
             [
              0.4444444444444444,
              "#bd3786"
             ],
             [
              0.5555555555555556,
              "#d8576b"
             ],
             [
              0.6666666666666666,
              "#ed7953"
             ],
             [
              0.7777777777777778,
              "#fb9f3a"
             ],
             [
              0.8888888888888888,
              "#fdca26"
             ],
             [
              1,
              "#f0f921"
             ]
            ],
            "type": "heatmap"
           }
          ],
          "heatmapgl": [
           {
            "colorbar": {
             "outlinewidth": 0,
             "ticks": ""
            },
            "colorscale": [
             [
              0,
              "#0d0887"
             ],
             [
              0.1111111111111111,
              "#46039f"
             ],
             [
              0.2222222222222222,
              "#7201a8"
             ],
             [
              0.3333333333333333,
              "#9c179e"
             ],
             [
              0.4444444444444444,
              "#bd3786"
             ],
             [
              0.5555555555555556,
              "#d8576b"
             ],
             [
              0.6666666666666666,
              "#ed7953"
             ],
             [
              0.7777777777777778,
              "#fb9f3a"
             ],
             [
              0.8888888888888888,
              "#fdca26"
             ],
             [
              1,
              "#f0f921"
             ]
            ],
            "type": "heatmapgl"
           }
          ],
          "histogram": [
           {
            "marker": {
             "pattern": {
              "fillmode": "overlay",
              "size": 10,
              "solidity": 0.2
             }
            },
            "type": "histogram"
           }
          ],
          "histogram2d": [
           {
            "colorbar": {
             "outlinewidth": 0,
             "ticks": ""
            },
            "colorscale": [
             [
              0,
              "#0d0887"
             ],
             [
              0.1111111111111111,
              "#46039f"
             ],
             [
              0.2222222222222222,
              "#7201a8"
             ],
             [
              0.3333333333333333,
              "#9c179e"
             ],
             [
              0.4444444444444444,
              "#bd3786"
             ],
             [
              0.5555555555555556,
              "#d8576b"
             ],
             [
              0.6666666666666666,
              "#ed7953"
             ],
             [
              0.7777777777777778,
              "#fb9f3a"
             ],
             [
              0.8888888888888888,
              "#fdca26"
             ],
             [
              1,
              "#f0f921"
             ]
            ],
            "type": "histogram2d"
           }
          ],
          "histogram2dcontour": [
           {
            "colorbar": {
             "outlinewidth": 0,
             "ticks": ""
            },
            "colorscale": [
             [
              0,
              "#0d0887"
             ],
             [
              0.1111111111111111,
              "#46039f"
             ],
             [
              0.2222222222222222,
              "#7201a8"
             ],
             [
              0.3333333333333333,
              "#9c179e"
             ],
             [
              0.4444444444444444,
              "#bd3786"
             ],
             [
              0.5555555555555556,
              "#d8576b"
             ],
             [
              0.6666666666666666,
              "#ed7953"
             ],
             [
              0.7777777777777778,
              "#fb9f3a"
             ],
             [
              0.8888888888888888,
              "#fdca26"
             ],
             [
              1,
              "#f0f921"
             ]
            ],
            "type": "histogram2dcontour"
           }
          ],
          "mesh3d": [
           {
            "colorbar": {
             "outlinewidth": 0,
             "ticks": ""
            },
            "type": "mesh3d"
           }
          ],
          "parcoords": [
           {
            "line": {
             "colorbar": {
              "outlinewidth": 0,
              "ticks": ""
             }
            },
            "type": "parcoords"
           }
          ],
          "pie": [
           {
            "automargin": true,
            "type": "pie"
           }
          ],
          "scatter": [
           {
            "fillpattern": {
             "fillmode": "overlay",
             "size": 10,
             "solidity": 0.2
            },
            "type": "scatter"
           }
          ],
          "scatter3d": [
           {
            "line": {
             "colorbar": {
              "outlinewidth": 0,
              "ticks": ""
             }
            },
            "marker": {
             "colorbar": {
              "outlinewidth": 0,
              "ticks": ""
             }
            },
            "type": "scatter3d"
           }
          ],
          "scattercarpet": [
           {
            "marker": {
             "colorbar": {
              "outlinewidth": 0,
              "ticks": ""
             }
            },
            "type": "scattercarpet"
           }
          ],
          "scattergeo": [
           {
            "marker": {
             "colorbar": {
              "outlinewidth": 0,
              "ticks": ""
             }
            },
            "type": "scattergeo"
           }
          ],
          "scattergl": [
           {
            "marker": {
             "colorbar": {
              "outlinewidth": 0,
              "ticks": ""
             }
            },
            "type": "scattergl"
           }
          ],
          "scattermapbox": [
           {
            "marker": {
             "colorbar": {
              "outlinewidth": 0,
              "ticks": ""
             }
            },
            "type": "scattermapbox"
           }
          ],
          "scatterpolar": [
           {
            "marker": {
             "colorbar": {
              "outlinewidth": 0,
              "ticks": ""
             }
            },
            "type": "scatterpolar"
           }
          ],
          "scatterpolargl": [
           {
            "marker": {
             "colorbar": {
              "outlinewidth": 0,
              "ticks": ""
             }
            },
            "type": "scatterpolargl"
           }
          ],
          "scatterternary": [
           {
            "marker": {
             "colorbar": {
              "outlinewidth": 0,
              "ticks": ""
             }
            },
            "type": "scatterternary"
           }
          ],
          "surface": [
           {
            "colorbar": {
             "outlinewidth": 0,
             "ticks": ""
            },
            "colorscale": [
             [
              0,
              "#0d0887"
             ],
             [
              0.1111111111111111,
              "#46039f"
             ],
             [
              0.2222222222222222,
              "#7201a8"
             ],
             [
              0.3333333333333333,
              "#9c179e"
             ],
             [
              0.4444444444444444,
              "#bd3786"
             ],
             [
              0.5555555555555556,
              "#d8576b"
             ],
             [
              0.6666666666666666,
              "#ed7953"
             ],
             [
              0.7777777777777778,
              "#fb9f3a"
             ],
             [
              0.8888888888888888,
              "#fdca26"
             ],
             [
              1,
              "#f0f921"
             ]
            ],
            "type": "surface"
           }
          ],
          "table": [
           {
            "cells": {
             "fill": {
              "color": "#EBF0F8"
             },
             "line": {
              "color": "white"
             }
            },
            "header": {
             "fill": {
              "color": "#C8D4E3"
             },
             "line": {
              "color": "white"
             }
            },
            "type": "table"
           }
          ]
         },
         "layout": {
          "annotationdefaults": {
           "arrowcolor": "#2a3f5f",
           "arrowhead": 0,
           "arrowwidth": 1
          },
          "autotypenumbers": "strict",
          "coloraxis": {
           "colorbar": {
            "outlinewidth": 0,
            "ticks": ""
           }
          },
          "colorscale": {
           "diverging": [
            [
             0,
             "#8e0152"
            ],
            [
             0.1,
             "#c51b7d"
            ],
            [
             0.2,
             "#de77ae"
            ],
            [
             0.3,
             "#f1b6da"
            ],
            [
             0.4,
             "#fde0ef"
            ],
            [
             0.5,
             "#f7f7f7"
            ],
            [
             0.6,
             "#e6f5d0"
            ],
            [
             0.7,
             "#b8e186"
            ],
            [
             0.8,
             "#7fbc41"
            ],
            [
             0.9,
             "#4d9221"
            ],
            [
             1,
             "#276419"
            ]
           ],
           "sequential": [
            [
             0,
             "#0d0887"
            ],
            [
             0.1111111111111111,
             "#46039f"
            ],
            [
             0.2222222222222222,
             "#7201a8"
            ],
            [
             0.3333333333333333,
             "#9c179e"
            ],
            [
             0.4444444444444444,
             "#bd3786"
            ],
            [
             0.5555555555555556,
             "#d8576b"
            ],
            [
             0.6666666666666666,
             "#ed7953"
            ],
            [
             0.7777777777777778,
             "#fb9f3a"
            ],
            [
             0.8888888888888888,
             "#fdca26"
            ],
            [
             1,
             "#f0f921"
            ]
           ],
           "sequentialminus": [
            [
             0,
             "#0d0887"
            ],
            [
             0.1111111111111111,
             "#46039f"
            ],
            [
             0.2222222222222222,
             "#7201a8"
            ],
            [
             0.3333333333333333,
             "#9c179e"
            ],
            [
             0.4444444444444444,
             "#bd3786"
            ],
            [
             0.5555555555555556,
             "#d8576b"
            ],
            [
             0.6666666666666666,
             "#ed7953"
            ],
            [
             0.7777777777777778,
             "#fb9f3a"
            ],
            [
             0.8888888888888888,
             "#fdca26"
            ],
            [
             1,
             "#f0f921"
            ]
           ]
          },
          "colorway": [
           "#636efa",
           "#EF553B",
           "#00cc96",
           "#ab63fa",
           "#FFA15A",
           "#19d3f3",
           "#FF6692",
           "#B6E880",
           "#FF97FF",
           "#FECB52"
          ],
          "font": {
           "color": "#2a3f5f"
          },
          "geo": {
           "bgcolor": "white",
           "lakecolor": "white",
           "landcolor": "#E5ECF6",
           "showlakes": true,
           "showland": true,
           "subunitcolor": "white"
          },
          "hoverlabel": {
           "align": "left"
          },
          "hovermode": "closest",
          "mapbox": {
           "style": "light"
          },
          "paper_bgcolor": "white",
          "plot_bgcolor": "#E5ECF6",
          "polar": {
           "angularaxis": {
            "gridcolor": "white",
            "linecolor": "white",
            "ticks": ""
           },
           "bgcolor": "#E5ECF6",
           "radialaxis": {
            "gridcolor": "white",
            "linecolor": "white",
            "ticks": ""
           }
          },
          "scene": {
           "xaxis": {
            "backgroundcolor": "#E5ECF6",
            "gridcolor": "white",
            "gridwidth": 2,
            "linecolor": "white",
            "showbackground": true,
            "ticks": "",
            "zerolinecolor": "white"
           },
           "yaxis": {
            "backgroundcolor": "#E5ECF6",
            "gridcolor": "white",
            "gridwidth": 2,
            "linecolor": "white",
            "showbackground": true,
            "ticks": "",
            "zerolinecolor": "white"
           },
           "zaxis": {
            "backgroundcolor": "#E5ECF6",
            "gridcolor": "white",
            "gridwidth": 2,
            "linecolor": "white",
            "showbackground": true,
            "ticks": "",
            "zerolinecolor": "white"
           }
          },
          "shapedefaults": {
           "line": {
            "color": "#2a3f5f"
           }
          },
          "ternary": {
           "aaxis": {
            "gridcolor": "white",
            "linecolor": "white",
            "ticks": ""
           },
           "baxis": {
            "gridcolor": "white",
            "linecolor": "white",
            "ticks": ""
           },
           "bgcolor": "#E5ECF6",
           "caxis": {
            "gridcolor": "white",
            "linecolor": "white",
            "ticks": ""
           }
          },
          "title": {
           "x": 0.05
          },
          "xaxis": {
           "automargin": true,
           "gridcolor": "white",
           "linecolor": "white",
           "ticks": "",
           "title": {
            "standoff": 15
           },
           "zerolinecolor": "white",
           "zerolinewidth": 2
          },
          "yaxis": {
           "automargin": true,
           "gridcolor": "white",
           "linecolor": "white",
           "ticks": "",
           "title": {
            "standoff": 15
           },
           "zerolinecolor": "white",
           "zerolinewidth": 2
          }
         }
        },
        "uniformtext": {
         "minsize": 12,
         "mode": "hide"
        }
       }
      }
     },
     "metadata": {},
     "output_type": "display_data"
    }
   ],
   "source": [
    "labels = [x[0] for x in els]\n",
    "values = [x[1] for x in els]\n",
    "colors = [\n",
    "    'rgba(255, 99, 132, .7)',  # Rosso\n",
    "    'rgba(117, 112, 111, .7)',  # Blu\n",
    "    'rgba(255, 206, 86, .7)',  # Giallo\n",
    "    'rgba(75, 192, 192, .7)',  # Verde acqua\n",
    "    'rgba(153, 102, 255, .8)', # Viola\n",
    "    'rgba(255, 159, 64, .7)',  # Arancione\n",
    "    'rgba(255, 99, 71, .7)',   # Rosso pomodoro\n",
    "    'rgba(60, 179, 113, .7)',  # Verde medio\n",
    "    'rgba(129, 181, 9, .7)',  # Viola medio\n",
    "    'rgba(161, 5, 116, .7)',   # Azzurro profondo\n",
    "    'rgba(255, 140, 0, .7)',   # Arancione scuro\n",
    "    'rgba(144, 238, 144, .7)'  # Verde chiaro\n",
    "]\n",
    "pulls = [0,0,0,0,0,0,0,0,0,0,0.1,0]\n",
    "fig = go.Figure(data=[go.Pie(labels=labels, values=values,marker_colors=colors,pull=pulls)])\n",
    "fig.update_traces(textposition='inside')\n",
    "fig.update_layout(\n",
    "    paper_bgcolor = \"#e3e7f0\",\n",
    "    uniformtext_minsize=12, \n",
    "    uniformtext_mode='hide'\n",
    ")\n",
    "fig.show()"
   ]
  },
  {
   "cell_type": "code",
   "execution_count": 34,
   "metadata": {},
   "outputs": [],
   "source": [
    "#differenza vendite nei vari posti del mondo tra top pokemon e top gioco\n",
    "migliore_mondo = vg[:1]\n",
    "migliore_pokemon = pokemon[:1]"
   ]
  },
  {
   "cell_type": "code",
   "execution_count": 35,
   "metadata": {},
   "outputs": [
    {
     "data": {
      "text/html": [
       "<div>\n",
       "<style scoped>\n",
       "    .dataframe tbody tr th:only-of-type {\n",
       "        vertical-align: middle;\n",
       "    }\n",
       "\n",
       "    .dataframe tbody tr th {\n",
       "        vertical-align: top;\n",
       "    }\n",
       "\n",
       "    .dataframe thead th {\n",
       "        text-align: right;\n",
       "    }\n",
       "</style>\n",
       "<table border=\"1\" class=\"dataframe\">\n",
       "  <thead>\n",
       "    <tr style=\"text-align: right;\">\n",
       "      <th></th>\n",
       "      <th>Top videogame</th>\n",
       "      <th>Pokémon</th>\n",
       "    </tr>\n",
       "  </thead>\n",
       "  <tbody>\n",
       "    <tr>\n",
       "      <th>NA_Sales</th>\n",
       "      <td>41.49</td>\n",
       "      <td>11.27</td>\n",
       "    </tr>\n",
       "    <tr>\n",
       "      <th>JP_Sales</th>\n",
       "      <td>3.77</td>\n",
       "      <td>10.22</td>\n",
       "    </tr>\n",
       "    <tr>\n",
       "      <th>EU_Sales</th>\n",
       "      <td>29.02</td>\n",
       "      <td>8.89</td>\n",
       "    </tr>\n",
       "    <tr>\n",
       "      <th>Global_Sales</th>\n",
       "      <td>82.74</td>\n",
       "      <td>31.37</td>\n",
       "    </tr>\n",
       "    <tr>\n",
       "      <th>Other_Sales</th>\n",
       "      <td>8.46</td>\n",
       "      <td>1.00</td>\n",
       "    </tr>\n",
       "  </tbody>\n",
       "</table>\n",
       "</div>"
      ],
      "text/plain": [
       "              Top videogame  Pokémon\n",
       "NA_Sales              41.49    11.27\n",
       "JP_Sales               3.77    10.22\n",
       "EU_Sales              29.02     8.89\n",
       "Global_Sales          82.74    31.37\n",
       "Other_Sales            8.46     1.00"
      ]
     },
     "execution_count": 35,
     "metadata": {},
     "output_type": "execute_result"
    }
   ],
   "source": [
    "primo = pd.DataFrame(\n",
    "    [migliore_mondo['NA_Sales'], migliore_mondo['JP_Sales'], migliore_mondo['EU_Sales'], migliore_mondo['Global_Sales'], migliore_mondo['Other_Sales']],\n",
    ")\n",
    "\n",
    "primo_pokemon = pd.DataFrame(\n",
    "    [migliore_pokemon['NA_Sales'], migliore_pokemon['JP_Sales'], migliore_pokemon['EU_Sales'], migliore_pokemon['Global_Sales'], migliore_pokemon['Other_Sales']],\n",
    ")\n",
    "\n",
    "comparazione = pd.DataFrame(\n",
    "    {\n",
    "        'Top videogame' : [x[0] for x in primo.values],\n",
    "        'Pokémon' :[x[0] for x in primo_pokemon.values]\n",
    "    },\n",
    "    primo.index\n",
    ")\n",
    "comparazione"
   ]
  },
  {
   "cell_type": "code",
   "execution_count": 36,
   "metadata": {},
   "outputs": [
    {
     "data": {
      "image/png": "[encoded data removed]",
      "text/plain": [
       "<Figure size 640x480 with 1 Axes>"
      ]
     },
     "metadata": {},
     "output_type": "display_data"
    }
   ],
   "source": [
    "comparazione.plot.barh(\n",
    "    color=['lightblue', 'blue'],\n",
    "    alpha=.6\n",
    ")\n",
    "plt.gcf().set_facecolor('#e3e7f0')\n",
    "plt.yticks([0,1,2,3,4],['Nord America', 'Giappone', 'Europa', 'Mondo', 'Altri'])\n",
    "plt.xlabel('Milioni di vendite')\n",
    "plt.show()"
   ]
  },
  {
   "cell_type": "code",
   "execution_count": null,
   "metadata": {},
   "outputs": [],
   "source": []
  }
 ],
 "metadata": {
  "kernelspec": {
   "display_name": "Statistica",
   "language": "python",
   "name": "python3"
  },
  "language_info": {
   "codemirror_mode": {
    "name": "ipython",
    "version": 3
   },
   "file_extension": ".py",
   "mimetype": "text/x-python",
   "name": "python",
   "nbconvert_exporter": "python",
   "pygments_lexer": "ipython3",
   "version": "3.11.9"
  }
 },
 "nbformat": 4,
 "nbformat_minor": 2
}
